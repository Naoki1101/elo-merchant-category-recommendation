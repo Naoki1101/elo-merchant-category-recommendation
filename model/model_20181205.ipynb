{
 "cells": [
  {
   "cell_type": "code",
   "execution_count": 99,
   "metadata": {},
   "outputs": [],
   "source": [
    "import numpy as np\n",
    "import pandas as pd\n",
    "import datetime\n",
    "\n",
    "%matplotlib inline\n",
    "import matplotlib.pyplot as plt\n",
    "\n",
    "\n",
    "import warnings\n",
    "warnings.filterwarnings(\"ignore\")\n",
    "\n",
    "import lightgbm as lgb\n",
    "import xgboost as xgb\n",
    "\n",
    "from sklearn.metrics import mean_squared_error\n",
    "from sklearn.model_selection import GridSearchCV\n",
    "from sklearn.model_selection import KFold\n",
    "from sklearn.model_selection import train_test_split"
   ]
  },
  {
   "cell_type": "code",
   "execution_count": 100,
   "metadata": {},
   "outputs": [],
   "source": [
    "raw_train = pd.read_csv(\"./input/train.csv\")\n",
    "raw_test = pd.read_csv(\"./input/test.csv\")"
   ]
  },
  {
   "cell_type": "code",
   "execution_count": 101,
   "metadata": {
    "scrolled": true
   },
   "outputs": [],
   "source": [
    "target = raw_train.target\n",
    "whole = pd.concat([raw_train.drop(\"target\", axis=1), raw_test], axis=0).reset_index(drop=True)"
   ]
  },
  {
   "cell_type": "code",
   "execution_count": 102,
   "metadata": {},
   "outputs": [
    {
     "data": {
      "text/html": [
       "<div>\n",
       "<style scoped>\n",
       "    .dataframe tbody tr th:only-of-type {\n",
       "        vertical-align: middle;\n",
       "    }\n",
       "\n",
       "    .dataframe tbody tr th {\n",
       "        vertical-align: top;\n",
       "    }\n",
       "\n",
       "    .dataframe thead th {\n",
       "        text-align: right;\n",
       "    }\n",
       "</style>\n",
       "<table border=\"1\" class=\"dataframe\">\n",
       "  <thead>\n",
       "    <tr style=\"text-align: right;\">\n",
       "      <th></th>\n",
       "      <th>index</th>\n",
       "      <th>0</th>\n",
       "    </tr>\n",
       "  </thead>\n",
       "  <tbody>\n",
       "    <tr>\n",
       "      <th>0</th>\n",
       "      <td>first_active_month</td>\n",
       "      <td>1</td>\n",
       "    </tr>\n",
       "    <tr>\n",
       "      <th>1</th>\n",
       "      <td>card_id</td>\n",
       "      <td>0</td>\n",
       "    </tr>\n",
       "    <tr>\n",
       "      <th>2</th>\n",
       "      <td>feature_1</td>\n",
       "      <td>0</td>\n",
       "    </tr>\n",
       "    <tr>\n",
       "      <th>3</th>\n",
       "      <td>feature_2</td>\n",
       "      <td>0</td>\n",
       "    </tr>\n",
       "    <tr>\n",
       "      <th>4</th>\n",
       "      <td>feature_3</td>\n",
       "      <td>0</td>\n",
       "    </tr>\n",
       "  </tbody>\n",
       "</table>\n",
       "</div>"
      ],
      "text/plain": [
       "                index  0\n",
       "0  first_active_month  1\n",
       "1             card_id  0\n",
       "2           feature_1  0\n",
       "3           feature_2  0\n",
       "4           feature_3  0"
      ]
     },
     "execution_count": 102,
     "metadata": {},
     "output_type": "execute_result"
    }
   ],
   "source": [
    "whole.isnull().sum().reset_index()"
   ]
  },
  {
   "cell_type": "code",
   "execution_count": 103,
   "metadata": {
    "scrolled": true
   },
   "outputs": [],
   "source": [
    "whole.first_active_month = pd.to_datetime(whole.first_active_month.fillna(\"2017-09\"))\n",
    "whole[\"elapsed_time\"] = (datetime.datetime(2018, 2, 1) - whole.first_active_month).apply(lambda x:x.days)\n",
    "whole[\"year\"] = whole.first_active_month.apply(lambda x:x.year)\n",
    "whole[\"month\"] = whole.first_active_month.apply(lambda x:x.month)\n",
    "\n",
    "whole[\"feature_1_1or4_flg\"] = np.where(whole.feature_1 == 1, 1, 0) + np.where(whole.feature_1 == 4, 1, 0)"
   ]
  },
  {
   "cell_type": "code",
   "execution_count": 104,
   "metadata": {
    "scrolled": true
   },
   "outputs": [
    {
     "data": {
      "text/html": [
       "<div>\n",
       "<style scoped>\n",
       "    .dataframe tbody tr th:only-of-type {\n",
       "        vertical-align: middle;\n",
       "    }\n",
       "\n",
       "    .dataframe tbody tr th {\n",
       "        vertical-align: top;\n",
       "    }\n",
       "\n",
       "    .dataframe thead th {\n",
       "        text-align: right;\n",
       "    }\n",
       "</style>\n",
       "<table border=\"1\" class=\"dataframe\">\n",
       "  <thead>\n",
       "    <tr style=\"text-align: right;\">\n",
       "      <th></th>\n",
       "      <th>first_active_month</th>\n",
       "      <th>card_id</th>\n",
       "      <th>feature_1</th>\n",
       "      <th>feature_2</th>\n",
       "      <th>feature_3</th>\n",
       "      <th>elapsed_time</th>\n",
       "      <th>year</th>\n",
       "      <th>month</th>\n",
       "      <th>feature_1_1or4_flg</th>\n",
       "    </tr>\n",
       "  </thead>\n",
       "  <tbody>\n",
       "    <tr>\n",
       "      <th>0</th>\n",
       "      <td>2017-06-01</td>\n",
       "      <td>C_ID_92a2005557</td>\n",
       "      <td>5</td>\n",
       "      <td>2</td>\n",
       "      <td>1</td>\n",
       "      <td>245</td>\n",
       "      <td>2017</td>\n",
       "      <td>6</td>\n",
       "      <td>0</td>\n",
       "    </tr>\n",
       "    <tr>\n",
       "      <th>1</th>\n",
       "      <td>2017-01-01</td>\n",
       "      <td>C_ID_3d0044924f</td>\n",
       "      <td>4</td>\n",
       "      <td>1</td>\n",
       "      <td>0</td>\n",
       "      <td>396</td>\n",
       "      <td>2017</td>\n",
       "      <td>1</td>\n",
       "      <td>1</td>\n",
       "    </tr>\n",
       "    <tr>\n",
       "      <th>2</th>\n",
       "      <td>2016-08-01</td>\n",
       "      <td>C_ID_d639edf6cd</td>\n",
       "      <td>2</td>\n",
       "      <td>2</td>\n",
       "      <td>0</td>\n",
       "      <td>549</td>\n",
       "      <td>2016</td>\n",
       "      <td>8</td>\n",
       "      <td>0</td>\n",
       "    </tr>\n",
       "    <tr>\n",
       "      <th>3</th>\n",
       "      <td>2017-09-01</td>\n",
       "      <td>C_ID_186d6a6901</td>\n",
       "      <td>4</td>\n",
       "      <td>3</td>\n",
       "      <td>0</td>\n",
       "      <td>153</td>\n",
       "      <td>2017</td>\n",
       "      <td>9</td>\n",
       "      <td>1</td>\n",
       "    </tr>\n",
       "    <tr>\n",
       "      <th>4</th>\n",
       "      <td>2017-11-01</td>\n",
       "      <td>C_ID_cdbd2c0db2</td>\n",
       "      <td>1</td>\n",
       "      <td>3</td>\n",
       "      <td>0</td>\n",
       "      <td>92</td>\n",
       "      <td>2017</td>\n",
       "      <td>11</td>\n",
       "      <td>1</td>\n",
       "    </tr>\n",
       "  </tbody>\n",
       "</table>\n",
       "</div>"
      ],
      "text/plain": [
       "  first_active_month          card_id  feature_1  feature_2  feature_3  \\\n",
       "0         2017-06-01  C_ID_92a2005557          5          2          1   \n",
       "1         2017-01-01  C_ID_3d0044924f          4          1          0   \n",
       "2         2016-08-01  C_ID_d639edf6cd          2          2          0   \n",
       "3         2017-09-01  C_ID_186d6a6901          4          3          0   \n",
       "4         2017-11-01  C_ID_cdbd2c0db2          1          3          0   \n",
       "\n",
       "   elapsed_time  year  month  feature_1_1or4_flg  \n",
       "0           245  2017      6                   0  \n",
       "1           396  2017      1                   1  \n",
       "2           549  2016      8                   0  \n",
       "3           153  2017      9                   1  \n",
       "4            92  2017     11                   1  "
      ]
     },
     "execution_count": 104,
     "metadata": {},
     "output_type": "execute_result"
    }
   ],
   "source": [
    "whole.head()"
   ]
  },
  {
   "cell_type": "code",
   "execution_count": 105,
   "metadata": {},
   "outputs": [],
   "source": [
    "h_trs = pd.read_csv(\"./input/historical_transactions.csv\")\n",
    "n_trs = pd.read_csv(\"./input/new_merchant_transactions.csv\")\n",
    "trs = pd.concat([h_trs, n_trs], axis=0).reset_index(drop=True)\n",
    "\n",
    "trs.purchase_date = pd.to_datetime(trs.purchase_date)"
   ]
  },
  {
   "cell_type": "code",
   "execution_count": 106,
   "metadata": {
    "scrolled": true
   },
   "outputs": [
    {
     "data": {
      "text/html": [
       "<div>\n",
       "<style scoped>\n",
       "    .dataframe tbody tr th:only-of-type {\n",
       "        vertical-align: middle;\n",
       "    }\n",
       "\n",
       "    .dataframe tbody tr th {\n",
       "        vertical-align: top;\n",
       "    }\n",
       "\n",
       "    .dataframe thead th {\n",
       "        text-align: right;\n",
       "    }\n",
       "</style>\n",
       "<table border=\"1\" class=\"dataframe\">\n",
       "  <thead>\n",
       "    <tr style=\"text-align: right;\">\n",
       "      <th></th>\n",
       "      <th>index</th>\n",
       "      <th>0</th>\n",
       "    </tr>\n",
       "  </thead>\n",
       "  <tbody>\n",
       "    <tr>\n",
       "      <th>0</th>\n",
       "      <td>authorized_flag</td>\n",
       "      <td>0</td>\n",
       "    </tr>\n",
       "    <tr>\n",
       "      <th>1</th>\n",
       "      <td>card_id</td>\n",
       "      <td>0</td>\n",
       "    </tr>\n",
       "    <tr>\n",
       "      <th>2</th>\n",
       "      <td>city_id</td>\n",
       "      <td>0</td>\n",
       "    </tr>\n",
       "    <tr>\n",
       "      <th>3</th>\n",
       "      <td>category_1</td>\n",
       "      <td>0</td>\n",
       "    </tr>\n",
       "    <tr>\n",
       "      <th>4</th>\n",
       "      <td>installments</td>\n",
       "      <td>0</td>\n",
       "    </tr>\n",
       "    <tr>\n",
       "      <th>5</th>\n",
       "      <td>category_3</td>\n",
       "      <td>234081</td>\n",
       "    </tr>\n",
       "    <tr>\n",
       "      <th>6</th>\n",
       "      <td>merchant_category_id</td>\n",
       "      <td>0</td>\n",
       "    </tr>\n",
       "    <tr>\n",
       "      <th>7</th>\n",
       "      <td>merchant_id</td>\n",
       "      <td>164697</td>\n",
       "    </tr>\n",
       "    <tr>\n",
       "      <th>8</th>\n",
       "      <td>month_lag</td>\n",
       "      <td>0</td>\n",
       "    </tr>\n",
       "    <tr>\n",
       "      <th>9</th>\n",
       "      <td>purchase_amount</td>\n",
       "      <td>0</td>\n",
       "    </tr>\n",
       "    <tr>\n",
       "      <th>10</th>\n",
       "      <td>purchase_date</td>\n",
       "      <td>0</td>\n",
       "    </tr>\n",
       "    <tr>\n",
       "      <th>11</th>\n",
       "      <td>category_2</td>\n",
       "      <td>2764609</td>\n",
       "    </tr>\n",
       "    <tr>\n",
       "      <th>12</th>\n",
       "      <td>state_id</td>\n",
       "      <td>0</td>\n",
       "    </tr>\n",
       "    <tr>\n",
       "      <th>13</th>\n",
       "      <td>subsector_id</td>\n",
       "      <td>0</td>\n",
       "    </tr>\n",
       "  </tbody>\n",
       "</table>\n",
       "</div>"
      ],
      "text/plain": [
       "                   index        0\n",
       "0        authorized_flag        0\n",
       "1                card_id        0\n",
       "2                city_id        0\n",
       "3             category_1        0\n",
       "4           installments        0\n",
       "5             category_3   234081\n",
       "6   merchant_category_id        0\n",
       "7            merchant_id   164697\n",
       "8              month_lag        0\n",
       "9        purchase_amount        0\n",
       "10         purchase_date        0\n",
       "11            category_2  2764609\n",
       "12              state_id        0\n",
       "13          subsector_id        0"
      ]
     },
     "execution_count": 106,
     "metadata": {},
     "output_type": "execute_result"
    }
   ],
   "source": [
    "trs.isnull().sum().reset_index()"
   ]
  },
  {
   "cell_type": "code",
   "execution_count": 107,
   "metadata": {},
   "outputs": [
    {
     "data": {
      "text/plain": [
       "Timestamp('2018-04-30 23:59:59')"
      ]
     },
     "execution_count": 107,
     "metadata": {},
     "output_type": "execute_result"
    }
   ],
   "source": [
    "np.max(trs.purchase_date)"
   ]
  },
  {
   "cell_type": "code",
   "execution_count": 108,
   "metadata": {},
   "outputs": [
    {
     "data": {
      "text/plain": [
       "Timestamp('2017-01-01 00:00:08')"
      ]
     },
     "execution_count": 108,
     "metadata": {},
     "output_type": "execute_result"
    }
   ],
   "source": [
    "np.min(trs.purchase_date)"
   ]
  },
  {
   "cell_type": "code",
   "execution_count": 109,
   "metadata": {
    "scrolled": false
   },
   "outputs": [
    {
     "data": {
      "text/html": [
       "<div>\n",
       "<style scoped>\n",
       "    .dataframe tbody tr th:only-of-type {\n",
       "        vertical-align: middle;\n",
       "    }\n",
       "\n",
       "    .dataframe tbody tr th {\n",
       "        vertical-align: top;\n",
       "    }\n",
       "\n",
       "    .dataframe thead th {\n",
       "        text-align: right;\n",
       "    }\n",
       "</style>\n",
       "<table border=\"1\" class=\"dataframe\">\n",
       "  <thead>\n",
       "    <tr style=\"text-align: right;\">\n",
       "      <th></th>\n",
       "      <th>authorized_flag</th>\n",
       "      <th>card_id</th>\n",
       "      <th>city_id</th>\n",
       "      <th>category_1</th>\n",
       "      <th>installments</th>\n",
       "      <th>category_3</th>\n",
       "      <th>merchant_category_id</th>\n",
       "      <th>merchant_id</th>\n",
       "      <th>month_lag</th>\n",
       "      <th>purchase_amount</th>\n",
       "      <th>purchase_date</th>\n",
       "      <th>category_2</th>\n",
       "      <th>state_id</th>\n",
       "      <th>subsector_id</th>\n",
       "    </tr>\n",
       "  </thead>\n",
       "  <tbody>\n",
       "    <tr>\n",
       "      <th>0</th>\n",
       "      <td>Y</td>\n",
       "      <td>C_ID_4e6213e9bc</td>\n",
       "      <td>88</td>\n",
       "      <td>N</td>\n",
       "      <td>0</td>\n",
       "      <td>A</td>\n",
       "      <td>80</td>\n",
       "      <td>M_ID_e020e9b302</td>\n",
       "      <td>-8</td>\n",
       "      <td>-0.703331</td>\n",
       "      <td>2017-06-25 15:33:07</td>\n",
       "      <td>1.0</td>\n",
       "      <td>16</td>\n",
       "      <td>37</td>\n",
       "    </tr>\n",
       "    <tr>\n",
       "      <th>1</th>\n",
       "      <td>Y</td>\n",
       "      <td>C_ID_4e6213e9bc</td>\n",
       "      <td>88</td>\n",
       "      <td>N</td>\n",
       "      <td>0</td>\n",
       "      <td>A</td>\n",
       "      <td>367</td>\n",
       "      <td>M_ID_86ec983688</td>\n",
       "      <td>-7</td>\n",
       "      <td>-0.733128</td>\n",
       "      <td>2017-07-15 12:10:45</td>\n",
       "      <td>1.0</td>\n",
       "      <td>16</td>\n",
       "      <td>16</td>\n",
       "    </tr>\n",
       "    <tr>\n",
       "      <th>2</th>\n",
       "      <td>Y</td>\n",
       "      <td>C_ID_4e6213e9bc</td>\n",
       "      <td>88</td>\n",
       "      <td>N</td>\n",
       "      <td>0</td>\n",
       "      <td>A</td>\n",
       "      <td>80</td>\n",
       "      <td>M_ID_979ed661fc</td>\n",
       "      <td>-6</td>\n",
       "      <td>-0.720386</td>\n",
       "      <td>2017-08-09 22:04:29</td>\n",
       "      <td>1.0</td>\n",
       "      <td>16</td>\n",
       "      <td>37</td>\n",
       "    </tr>\n",
       "    <tr>\n",
       "      <th>3</th>\n",
       "      <td>Y</td>\n",
       "      <td>C_ID_4e6213e9bc</td>\n",
       "      <td>88</td>\n",
       "      <td>N</td>\n",
       "      <td>0</td>\n",
       "      <td>A</td>\n",
       "      <td>560</td>\n",
       "      <td>M_ID_e6d5ae8ea6</td>\n",
       "      <td>-5</td>\n",
       "      <td>-0.735352</td>\n",
       "      <td>2017-09-02 10:06:26</td>\n",
       "      <td>1.0</td>\n",
       "      <td>16</td>\n",
       "      <td>34</td>\n",
       "    </tr>\n",
       "    <tr>\n",
       "      <th>4</th>\n",
       "      <td>Y</td>\n",
       "      <td>C_ID_4e6213e9bc</td>\n",
       "      <td>88</td>\n",
       "      <td>N</td>\n",
       "      <td>0</td>\n",
       "      <td>A</td>\n",
       "      <td>80</td>\n",
       "      <td>M_ID_e020e9b302</td>\n",
       "      <td>-11</td>\n",
       "      <td>-0.722865</td>\n",
       "      <td>2017-03-10 01:14:19</td>\n",
       "      <td>1.0</td>\n",
       "      <td>16</td>\n",
       "      <td>37</td>\n",
       "    </tr>\n",
       "  </tbody>\n",
       "</table>\n",
       "</div>"
      ],
      "text/plain": [
       "  authorized_flag          card_id  city_id category_1  installments  \\\n",
       "0               Y  C_ID_4e6213e9bc       88          N             0   \n",
       "1               Y  C_ID_4e6213e9bc       88          N             0   \n",
       "2               Y  C_ID_4e6213e9bc       88          N             0   \n",
       "3               Y  C_ID_4e6213e9bc       88          N             0   \n",
       "4               Y  C_ID_4e6213e9bc       88          N             0   \n",
       "\n",
       "  category_3  merchant_category_id      merchant_id  month_lag  \\\n",
       "0          A                    80  M_ID_e020e9b302         -8   \n",
       "1          A                   367  M_ID_86ec983688         -7   \n",
       "2          A                    80  M_ID_979ed661fc         -6   \n",
       "3          A                   560  M_ID_e6d5ae8ea6         -5   \n",
       "4          A                    80  M_ID_e020e9b302        -11   \n",
       "\n",
       "   purchase_amount       purchase_date  category_2  state_id  subsector_id  \n",
       "0        -0.703331 2017-06-25 15:33:07         1.0        16            37  \n",
       "1        -0.733128 2017-07-15 12:10:45         1.0        16            16  \n",
       "2        -0.720386 2017-08-09 22:04:29         1.0        16            37  \n",
       "3        -0.735352 2017-09-02 10:06:26         1.0        16            34  \n",
       "4        -0.722865 2017-03-10 01:14:19         1.0        16            37  "
      ]
     },
     "execution_count": 109,
     "metadata": {},
     "output_type": "execute_result"
    }
   ],
   "source": [
    "trs.head()"
   ]
  },
  {
   "cell_type": "code",
   "execution_count": 110,
   "metadata": {},
   "outputs": [],
   "source": [
    "def merge_process(df1, df2, on=\"card_id\", how=\"left\"):\n",
    "    result = pd.merge(df1, df2, on=on, how=how)\n",
    "    return result"
   ]
  },
  {
   "cell_type": "code",
   "execution_count": 111,
   "metadata": {},
   "outputs": [],
   "source": [
    "df_transaction = trs.card_id.value_counts().reset_index()\n",
    "df_transaction.columns = [\"card_id\", \"transaction_num\"]"
   ]
  },
  {
   "cell_type": "markdown",
   "metadata": {},
   "source": [
    "- authorized_flag\n",
    "    - Nの数\n",
    "    - Nの割合\n",
    "    - Nの時の平均purchase_amount"
   ]
  },
  {
   "cell_type": "code",
   "execution_count": 112,
   "metadata": {
    "scrolled": true
   },
   "outputs": [
    {
     "name": "stdout",
     "output_type": "stream",
     "text": [
      "Process N_count completed\n",
      "Process N_percentage completed\n",
      "Process median_purchase_amount_N completed\n",
      "Process median_purchase_amount_Y completed\n",
      "Process merge & fillna completed\n"
     ]
    }
   ],
   "source": [
    "#Nの数\n",
    "df_authorized_flag = trs[[\"authorized_flag\", \"card_id\"]].copy()\n",
    "df_authorized_flag.authorized_flag = df_authorized_flag.authorized_flag.replace({\"Y\":0, \"N\":1})\n",
    "df_authorized = df_authorized_flag.groupby(\"card_id\")[\"authorized_flag\"].sum().reset_index()\n",
    "df_authorized.columns = [\"card_id\", \"authorized_N_count\"]\n",
    "print(\"Process N_count completed\")\n",
    "\n",
    "#Nの割合\n",
    "df_transaction = merge_process(df_transaction, df_authorized)\n",
    "df_transaction[\"authorized_N_percentage\"] = 1.0 * df_transaction.authorized_N_count / df_transaction.transaction_num\n",
    "print(\"Process N_percentage completed\")\n",
    "\n",
    "\n",
    "#Nの時の平均purchase_amount\n",
    "df_authorized_N = trs[trs.authorized_flag == \"N\"][[\"card_id\", \"purchase_amount\"]].copy()\n",
    "df_authorized_N_amount = df_authorized_N.groupby(\"card_id\")[\"purchase_amount\"].median().reset_index()\n",
    "df_authorized_N_amount.columns = [\"card_id\", \"authorized_N_median_purchase_amount\"]\n",
    "print(\"Process median_purchase_amount_N completed\")\n",
    "\n",
    "#Yの時の平均purchase_amount\n",
    "df_authorized_Y = trs[trs.authorized_flag == \"Y\"][[\"card_id\", \"purchase_amount\"]].copy()\n",
    "df_authorized_Y_amount = df_authorized_N.groupby(\"card_id\")[\"purchase_amount\"].median().reset_index()\n",
    "df_authorized_Y_amount.columns = [\"card_id\", \"authorized_Y_median_purchase_amount\"]\n",
    "print(\"Process median_purchase_amount_Y completed\")\n",
    "\n",
    "df_authorized_amount = merge_process(df_authorized_N_amount, df_authorized_Y_amount)\n",
    "\n",
    "\n",
    "df_transaction = merge_process(df_transaction, df_authorized_amount)\n",
    "df_transaction.authorized_N_median_purchase_amount = df_transaction.authorized_N_median_purchase_amount.fillna(0)\n",
    "df_transaction.authorized_Y_median_purchase_amount = df_transaction.authorized_Y_median_purchase_amount.fillna(0)\n",
    "print(\"Process merge & fillna completed\")"
   ]
  },
  {
   "cell_type": "markdown",
   "metadata": {},
   "source": [
    "- city_id\n",
    "    - 最大件数のid"
   ]
  },
  {
   "cell_type": "code",
   "execution_count": 113,
   "metadata": {
    "scrolled": true
   },
   "outputs": [
    {
     "name": "stdout",
     "output_type": "stream",
     "text": [
      "Process pivot completed\n",
      "Process city-select completed\n"
     ]
    }
   ],
   "source": [
    "df_city_pivot = pd.pivot_table(\n",
    "    trs[[\"card_id\", \"city_id\", \"installments\"]], \n",
    "    values = \"installments\",  \n",
    "    columns=\"city_id\", \n",
    "    index=\"card_id\", \n",
    "    aggfunc=\"count\", \n",
    "    fill_value=0\n",
    ").reset_index()\n",
    "print(\"Process pivot completed\")\n",
    "\n",
    "list_city = df_city_pivot.columns.tolist()[1:]\n",
    "df_city_pivot[\"user_city_idx\"] = np.argmax(df_city_pivot.as_matrix()[:, 1:], axis=1)\n",
    "df_city_pivot[\"user_city\"] = df_city_pivot.user_city_idx.apply(lambda x:list_city[x])\n",
    "df_city = df_city_pivot[[\"card_id\", \"user_city\"]]\n",
    "print(\"Process city-select completed\")\n",
    "\n",
    "df_transaction = merge_process(df_transaction, df_city)"
   ]
  },
  {
   "cell_type": "markdown",
   "metadata": {},
   "source": [
    "- category_1\n",
    "    - Nの数\n",
    "    - Nの割合\n",
    "    - Nの時の平均purchase_amount\n",
    "    - Yの時の平均purchase_amount"
   ]
  },
  {
   "cell_type": "code",
   "execution_count": 114,
   "metadata": {},
   "outputs": [
    {
     "name": "stdout",
     "output_type": "stream",
     "text": [
      "Process N_count completed\n",
      "Process N_percentage completed\n",
      "Process median_purchase_amount_N completed\n",
      "Process median_purchase_amount_Y completed\n",
      "Process merge & fillna completed\n"
     ]
    }
   ],
   "source": [
    "#Nの数\n",
    "df_category1_flag = trs[[\"category_1\", \"card_id\"]].copy()\n",
    "df_category1_flag.category_1 = df_category1_flag.category_1.replace({\"Y\":0, \"N\":1})\n",
    "df_category1 = df_category1_flag.groupby(\"card_id\")[\"category_1\"].sum().reset_index()\n",
    "df_category1.columns = [\"card_id\", \"category1_N_count\"]\n",
    "print(\"Process N_count completed\")\n",
    "\n",
    "\n",
    "#Nの割合\n",
    "df_transaction = merge_process(df_transaction, df_category1)\n",
    "df_transaction[\"category1_N_percentage\"] = 1.0 * df_transaction.category1_N_count / df_transaction.transaction_num\n",
    "print(\"Process N_percentage completed\")\n",
    "\n",
    "\n",
    "#Nの時の平均purchase_amount\n",
    "df_category1_N = trs[trs.category_1 == \"N\"][[\"card_id\", \"purchase_amount\"]].copy()\n",
    "df_category1_N_amount = df_category1_N.groupby(\"card_id\")[\"purchase_amount\"].median().reset_index()\n",
    "df_category1_N_amount.columns = [\"card_id\", \"category1_N_median_purchase_amount\"]\n",
    "print(\"Process median_purchase_amount_N completed\")\n",
    "\n",
    "\n",
    "#Yの時の平均purchase_amount\n",
    "df_category1_Y = trs[trs.category_1 == \"Y\"][[\"card_id\", \"purchase_amount\"]].copy()\n",
    "df_category1_Y_amount = df_category1_N.groupby(\"card_id\")[\"purchase_amount\"].median().reset_index()\n",
    "df_category1_Y_amount.columns = [\"card_id\", \"category1_Y_median_purchase_amount\"]\n",
    "print(\"Process median_purchase_amount_Y completed\")\n",
    "\n",
    "df_category1_amount = merge_process(df_category1_N_amount, df_category1_Y_amount)\n",
    "\n",
    "\n",
    "df_transaction = merge_process(df_transaction, df_category1_amount)\n",
    "df_transaction.category1_N_median_purchase_amount = df_transaction.category1_N_median_purchase_amount.fillna(0)\n",
    "df_transaction.category1_Y_median_purchase_amount = df_transaction.category1_Y_median_purchase_amount.fillna(0)\n",
    "print(\"Process merge & fillna completed\")"
   ]
  },
  {
   "cell_type": "markdown",
   "metadata": {},
   "source": [
    "- installments\n",
    "    - 0の割合\n",
    "    - 1 ~ 3の割合\n",
    "    - 4 ~ 6の割合\n",
    "    - 6 ~ 9の割合\n",
    "    - 10 ~ 12の割合"
   ]
  },
  {
   "cell_type": "code",
   "execution_count": 115,
   "metadata": {
    "scrolled": true
   },
   "outputs": [
    {
     "name": "stdout",
     "output_type": "stream",
     "text": [
      "Process pivot completed\n",
      "Process installment 0 completed\n",
      "Process installment 1~3 completed\n",
      "Process installment 4~6 completed\n",
      "Process installment 7~9 completed\n",
      "Process installment 10~12 completed\n",
      "Process installment else completed\n",
      "Process percentage completed\n",
      "Process merge completed\n"
     ]
    }
   ],
   "source": [
    "df_installments_pivot = pd.pivot_table(\n",
    "    trs[[\"card_id\", \"installments\", \"purchase_amount\"]], \n",
    "    values=\"purchase_amount\", \n",
    "    columns=\"installments\", \n",
    "    index=\"card_id\", \n",
    "    aggfunc=\"count\",  \n",
    "    fill_value=0\n",
    ").reset_index()\n",
    "print(\"Process pivot completed\")\n",
    "\n",
    "\n",
    "df_installments_pivot[\"installments_0\"] = df_installments_pivot[df_installments_pivot.columns[2]]\n",
    "print(\"Process installment 0 completed\")\n",
    "df_installments_pivot[\"installments_1_3\"] = np.sum(df_installments_pivot[df_installments_pivot.columns[3:6]].as_matrix(), axis=1)\n",
    "print(\"Process installment 1~3 completed\")\n",
    "df_installments_pivot[\"installments_4_6\"] = np.sum(df_installments_pivot[df_installments_pivot.columns[6:9]].as_matrix(), axis=1)\n",
    "print(\"Process installment 4~6 completed\")\n",
    "df_installments_pivot[\"installments_7_9\"] = np.sum(df_installments_pivot[df_installments_pivot.columns[9:12]].as_matrix(), axis=1)\n",
    "print(\"Process installment 7~9 completed\")\n",
    "df_installments_pivot[\"installments_10_12\"] = np.sum(df_installments_pivot[df_installments_pivot.columns[12:15]].as_matrix(), axis=1)\n",
    "print(\"Process installment 10~12 completed\")\n",
    "df_installments_pivot[\"installments_else\"] = df_installments_pivot[df_installments_pivot.columns[1]] + df_installments_pivot[df_installments_pivot.columns[15]]\n",
    "print(\"Process installment else completed\")\n",
    "\n",
    "df_installments = df_installments_pivot[[\n",
    "    \"card_id\",\n",
    "    \"installments_0\", \n",
    "    \"installments_1_3\",\n",
    "    \"installments_4_6\",\n",
    "    \"installments_7_9\",\n",
    "    \"installments_10_12\",\n",
    "    \"installments_else\"\n",
    "]]\n",
    "\n",
    "installments_sum_per_card = np.sum(df_installments[df_installments.columns[1:]].as_matrix(), axis=1)\n",
    "for col in df_installments.columns[1:]:\n",
    "    percentage_col_name = col + \"_percentage\"\n",
    "    df_installments[percentage_col_name] = df_installments[col] / installments_sum_per_card\n",
    "print(\"Process percentage completed\")\n",
    "\n",
    "df_transaction = merge_process(df_transaction, df_installments)\n",
    "print(\"Process merge completed\")"
   ]
  },
  {
   "cell_type": "markdown",
   "metadata": {},
   "source": [
    "- category_3\n",
    "    - 欠損の数\n",
    "    - Aの数\n",
    "    - Bの数\n",
    "    - Cの数"
   ]
  },
  {
   "cell_type": "code",
   "execution_count": 116,
   "metadata": {
    "scrolled": true
   },
   "outputs": [
    {
     "name": "stdout",
     "output_type": "stream",
     "text": [
      "Process pivot completed\n",
      "Process NaN completed\n",
      "Process merge completed\n"
     ]
    }
   ],
   "source": [
    "df_category3_pivot = pd.pivot_table(\n",
    "    trs[[\"card_id\", \"category_3\", \"purchase_amount\"]],\n",
    "    values=\"purchase_amount\",\n",
    "    columns=\"category_3\",\n",
    "    index=\"card_id\",\n",
    "    aggfunc=\"count\",\n",
    "    fill_value=0\n",
    ").reset_index()\n",
    "df_category3_pivot.columns = [\"card_id\", \"category3_A\", \"category3_B\", \"category3_C\"]\n",
    "print(\"Process pivot completed\")\n",
    "\n",
    "df_category3_nan = trs[[\"card_id\", \"category_3\"]].copy()\n",
    "df_category3_nan[\"category3_Nan_flg\"] = np.where(df_category3_nan.category_3.isnull(), 1, 0)\n",
    "df_category3 = df_category3_nan.groupby(\"card_id\")[\"category3_Nan_flg\"].sum().reset_index()\n",
    "df_category3.columns = [\"card_id\", \"category3_NaN_count\"]\n",
    "print(\"Process NaN completed\")\n",
    "\n",
    "df_category3 = merge_process(df_category3, df_category3_pivot)\n",
    "\n",
    "df_transaction = merge_process(df_transaction, df_category3)\n",
    "print(\"Process merge completed\")"
   ]
  },
  {
   "cell_type": "markdown",
   "metadata": {},
   "source": [
    "- month_lag\n",
    "    - それぞれの期間でのレコード数"
   ]
  },
  {
   "cell_type": "code",
   "execution_count": 117,
   "metadata": {},
   "outputs": [
    {
     "name": "stdout",
     "output_type": "stream",
     "text": [
      "Process pivot completed\n",
      "Process merge completed\n"
     ]
    }
   ],
   "source": [
    "df_month_lag = pd.pivot_table(\n",
    "    trs[[\"card_id\", \"month_lag\", \"purchase_amount\"]], \n",
    "    values=\"purchase_amount\", \n",
    "    columns=\"month_lag\", \n",
    "    index=\"card_id\", \n",
    "    aggfunc=\"count\",\n",
    "    fill_value=0\n",
    ").reset_index()\n",
    "df_month_lag.columns = [\"card_id\"] + [\"month_lag_{}\".format(col) for col in df_month_lag.columns[1:]]\n",
    "print(\"Process pivot completed\")\n",
    "\n",
    "df_transaction = merge_process(df_transaction, df_month_lag)\n",
    "print(\"Process merge completed\")"
   ]
  },
  {
   "cell_type": "markdown",
   "metadata": {},
   "source": [
    "- purchase_amount\n",
    "    - 平均\n",
    "    - max\n",
    "    - min\n",
    "    - var"
   ]
  },
  {
   "cell_type": "code",
   "execution_count": 118,
   "metadata": {},
   "outputs": [
    {
     "name": "stdout",
     "output_type": "stream",
     "text": [
      "Process median completed\n",
      "Process max completed\n",
      "Process max completed\n",
      "Process statics completed\n",
      "Process merge completed\n"
     ]
    }
   ],
   "source": [
    "df_purchase_amount = trs.groupby(\"card_id\")[\"purchase_amount\"].median().reset_index()\n",
    "df_purchase_amount.columns = [\"card_id\", \"purcahse_amount_median\"]\n",
    "print(\"Process median completed\")\n",
    "\n",
    "df_purchase_amount_max = trs.groupby(\"card_id\")[\"purchase_amount\"].max().reset_index()\n",
    "df_purchase_amount_max.columns = [\"card_id\", \"purcahse_amount_max\"]\n",
    "df_purchase_amount = merge_process(df_purchase_amount, df_purchase_amount_max)\n",
    "print(\"Process max completed\")\n",
    "\n",
    "df_purchase_amount_min = trs.groupby(\"card_id\")[\"purchase_amount\"].min().reset_index()\n",
    "df_purchase_amount_min.columns = [\"card_id\", \"purcahse_amount_min\"]\n",
    "df_purchase_amount = merge_process(df_purchase_amount, df_purchase_amount_min)\n",
    "print(\"Process max completed\")\n",
    "\n",
    "df_purchase_amount_std = trs.groupby(\"card_id\")[\"purchase_amount\"].std().reset_index()\n",
    "df_purchase_amount_std.columns = [\"card_id\", \"purcahse_amount_std\"]\n",
    "df_purchase_amount = merge_process(df_purchase_amount, df_purchase_amount_std)\n",
    "print(\"Process statics completed\")\n",
    "\n",
    "df_transaction = merge_process(df_transaction, df_purchase_amount)\n",
    "print(\"Process merge completed\")"
   ]
  },
  {
   "cell_type": "markdown",
   "metadata": {},
   "source": [
    "- purchase_date\n",
    "    - max\n",
    "    - min\n",
    "    - 2018年頻度\n",
    "    - 2018年4月頻度"
   ]
  },
  {
   "cell_type": "code",
   "execution_count": 119,
   "metadata": {
    "scrolled": true
   },
   "outputs": [
    {
     "name": "stdout",
     "output_type": "stream",
     "text": [
      "Process max completed\n",
      "Process min completed\n",
      "Process diff completed\n",
      "Process frequency_2018 completed\n",
      "Process frequency_201804 completed\n",
      "Process frequency_201803 completed\n",
      "Process frequency_201802 completed\n",
      "Process frequency_201801 completed\n",
      "Process merge completed\n"
     ]
    }
   ],
   "source": [
    "df_purchase_date_all = trs[[\"card_id\", \"purchase_date\"]].copy()\n",
    "df_purchase_date = df_purchase_date_all.groupby(\"card_id\")[\"purchase_date\"].max().reset_index()\n",
    "df_purchase_date.columns = [\"card_id\", \"purchase_date_ratest\"]\n",
    "df_purchase_date.purchase_date_ratest = (datetime.datetime(2018, 5, 1) - df_purchase_date.purchase_date_ratest).apply(lambda x:x.days)\n",
    "print(\"Process max completed\")\n",
    "\n",
    "df_purchase_date_min = df_purchase_date_all.groupby(\"card_id\")[\"purchase_date\"].min().reset_index()\n",
    "df_purchase_date_min.columns = [\"card_id\", \"purchase_date_oldest\"]\n",
    "df_purchase_date_min.purchase_date_oldest = (datetime.datetime(2018, 5, 1) - df_purchase_date_min.purchase_date_oldest).apply(lambda x:x.days)\n",
    "df_purchase_date = merge_process(df_purchase_date, df_purchase_date_min)\n",
    "print(\"Process min completed\")\n",
    "\n",
    "df_purchase_date[\"diff_purchase_date\"] = df_purchase_date.purchase_date_oldest - df_purchase_date.purchase_date_ratest\n",
    "print(\"Process diff completed\")\n",
    "\n",
    "df_purchase_date_2018 = df_purchase_date_all[df_purchase_date_all.purchase_date >= \"2018-01-01\"]\n",
    "df_purchase_count_2018 = df_purchase_date_2018.groupby(\"card_id\")[\"purchase_date\"].count().reset_index()\n",
    "df_purchase_count_2018.columns = [\"card_id\", \"frequency_2018\"]\n",
    "df_purchase_date = merge_process(df_purchase_date, df_purchase_count_2018)\n",
    "df_purchase_date.frequency_2018 = df_purchase_date.frequency_2018.fillna(0)\n",
    "print(\"Process frequency_2018 completed\")\n",
    "\n",
    "df_purchase_date_201804 = df_purchase_date_all[df_purchase_date_all.purchase_date >= \"2018-04-01\"]\n",
    "df_purchase_count_201804 = df_purchase_date_201804.groupby(\"card_id\")[\"purchase_date\"].count().reset_index()\n",
    "df_purchase_count_201804.columns = [\"card_id\", \"frequency_201804\"]\n",
    "df_purchase_date = merge_process(df_purchase_date, df_purchase_count_201804)\n",
    "df_purchase_date.frequency_201804 = df_purchase_date.frequency_201804.fillna(0)\n",
    "print(\"Process frequency_201804 completed\")\n",
    "\n",
    "df_purchase_date_201803 = df_purchase_date_all[(df_purchase_date_all.purchase_date >= \"2018-03-01\")&(df_purchase_date_all.purchase_date<\"2018-04-01\")]\n",
    "df_purchase_count_201803 = df_purchase_date_201803.groupby(\"card_id\")[\"purchase_date\"].count().reset_index()\n",
    "df_purchase_count_201803.columns = [\"card_id\", \"frequency_201803\"]\n",
    "df_purchase_date = merge_process(df_purchase_date, df_purchase_count_201803)\n",
    "df_purchase_date.frequency_201803 = df_purchase_date.frequency_201803.fillna(0)\n",
    "print(\"Process frequency_201803 completed\")\n",
    "\n",
    "df_purchase_date_201802 = df_purchase_date_all[(df_purchase_date_all.purchase_date >= \"2018-02-01\")&(df_purchase_date_all.purchase_date<\"2018-03-01\")]\n",
    "df_purchase_count_201802 = df_purchase_date_201802.groupby(\"card_id\")[\"purchase_date\"].count().reset_index()\n",
    "df_purchase_count_201802.columns = [\"card_id\", \"frequency_201802\"]\n",
    "df_purchase_date = merge_process(df_purchase_date, df_purchase_count_201802)\n",
    "df_purchase_date.frequency_201802 = df_purchase_date.frequency_201802.fillna(0)\n",
    "print(\"Process frequency_201802 completed\")\n",
    "\n",
    "df_purchase_date_201801 = df_purchase_date_all[(df_purchase_date_all.purchase_date >= \"2018-01-01\")&(df_purchase_date_all.purchase_date<\"2018-02-01\")]\n",
    "df_purchase_count_201801 = df_purchase_date_201801.groupby(\"card_id\")[\"purchase_date\"].count().reset_index()\n",
    "df_purchase_count_201801.columns = [\"card_id\", \"frequency_201801\"]\n",
    "df_purchase_date = merge_process(df_purchase_date, df_purchase_count_201801)\n",
    "df_purchase_date.frequency_201801 = df_purchase_date.frequency_201801.fillna(0)\n",
    "print(\"Process frequency_201801 completed\")\n",
    "\n",
    "df_transaction = merge_process(df_transaction, df_purchase_date)\n",
    "print(\"Process merge completed\")"
   ]
  },
  {
   "cell_type": "markdown",
   "metadata": {},
   "source": [
    "最新日の購入金額"
   ]
  },
  {
   "cell_type": "code",
   "execution_count": 120,
   "metadata": {
    "scrolled": true
   },
   "outputs": [
    {
     "name": "stdout",
     "output_type": "stream",
     "text": [
      "Process groupby completed\n",
      "Process extract ratest amount completed\n",
      "Process merge completed\n"
     ]
    }
   ],
   "source": [
    "df_purchase_ratest = df_purchase_date_all.groupby(\"card_id\")[\"purchase_date\"].max().reset_index()\n",
    "print(\"Process groupby completed\")\n",
    "\n",
    "df_purchase_ratest_amount = pd.merge(\n",
    "    trs[[\"card_id\", \"purchase_date\", \"purchase_amount\"]],\n",
    "    df_purchase_ratest, \n",
    "    on=[\"purchase_date\", \"card_id\"],\n",
    "    how=\"left\"\n",
    ")[[\"card_id\", \"purchase_amount\"]]\n",
    "\n",
    "df_ratest_amount =  df_purchase_ratest_amount.groupby(\"card_id\")[\"purchase_amount\"].max().reset_index()\n",
    "df_ratest_amount.columns = [\"card_id\", \"ratest_purchase_amount\"]\n",
    "print(\"Process extract ratest amount completed\")\n",
    "\n",
    "\n",
    "df_transaction = merge_process(df_transaction, df_ratest_amount)\n",
    "print(\"Process merge completed\")"
   ]
  },
  {
   "cell_type": "markdown",
   "metadata": {},
   "source": [
    "- category_2\n",
    "    - それぞれの数\n",
    "    - 割合"
   ]
  },
  {
   "cell_type": "code",
   "execution_count": 121,
   "metadata": {},
   "outputs": [
    {
     "name": "stdout",
     "output_type": "stream",
     "text": [
      "Process pivot completed\n",
      "Process percentage completed\n",
      "Process merge completed\n"
     ]
    }
   ],
   "source": [
    "df_category2_pivot = pd.pivot_table(\n",
    "    trs[[\"card_id\", \"category_2\", \"purchase_amount\"]], \n",
    "    values=\"purchase_amount\", \n",
    "    columns=\"category_2\",\n",
    "    index=\"card_id\", \n",
    "    aggfunc=\"count\", \n",
    "    fill_value=0\n",
    ").reset_index()\n",
    "df_category2_pivot.columns = [\"card_id\"] + [\"category2_{}\".format(col) for col in df_category2_pivot.columns[1:]]\n",
    "print(\"Process pivot completed\")\n",
    "\n",
    "category2_sum = np.sum(df_category2_pivot.as_matrix()[:, 1:], axis=1)\n",
    "for col in df_category2_pivot.columns[1:]:\n",
    "    percentage_col_name = col + \"_percentage\"\n",
    "    df_category2_pivot[percentage_col_name] = df_category2_pivot[col] / category2_sum\n",
    "print(\"Process percentage completed\")\n",
    "\n",
    "df_transaction = merge_process(df_transaction, df_category2_pivot)\n",
    "df_transaction = df_transaction.fillna(0)\n",
    "print(\"Process merge completed\")"
   ]
  },
  {
   "cell_type": "markdown",
   "metadata": {},
   "source": [
    "- state_id\n",
    "    - 最大件数のid"
   ]
  },
  {
   "cell_type": "code",
   "execution_count": 122,
   "metadata": {},
   "outputs": [
    {
     "name": "stdout",
     "output_type": "stream",
     "text": [
      "Process pivot completed\n",
      "Process state-select completed\n",
      "Process merge completed\n"
     ]
    }
   ],
   "source": [
    "df_state_pivot = pd.pivot_table(\n",
    "    trs[[\"card_id\", \"state_id\", \"installments\"]], \n",
    "    values = \"installments\",  \n",
    "    columns=\"state_id\", \n",
    "    index=\"card_id\", \n",
    "    aggfunc=\"count\", \n",
    "    fill_value=0\n",
    ").reset_index()\n",
    "print(\"Process pivot completed\")\n",
    "\n",
    "list_state = df_state_pivot.columns.tolist()[1:]\n",
    "df_state_pivot[\"user_state_idx\"] = np.argmax(df_state_pivot.as_matrix()[:, 1:], axis=1)\n",
    "df_state_pivot[\"user_state\"] = df_state_pivot.user_state_idx.apply(lambda x:list_state[x])\n",
    "df_state = df_state_pivot[[\"card_id\", \"user_state\"]]\n",
    "print(\"Process state-select completed\")\n",
    "\n",
    "df_transaction = merge_process(df_transaction, df_state)\n",
    "print(\"Process merge completed\")"
   ]
  },
  {
   "cell_type": "markdown",
   "metadata": {},
   "source": [
    "- subsector_id\n",
    "    - 最大件数のid"
   ]
  },
  {
   "cell_type": "code",
   "execution_count": 123,
   "metadata": {
    "scrolled": true
   },
   "outputs": [
    {
     "name": "stdout",
     "output_type": "stream",
     "text": [
      "Process pivot completed\n",
      "Process subsector-select completed\n",
      "Process merge completed\n"
     ]
    }
   ],
   "source": [
    "df_subsector_pivot = pd.pivot_table(\n",
    "    trs[[\"card_id\", \"subsector_id\", \"installments\"]], \n",
    "    values = \"installments\",  \n",
    "    columns=\"subsector_id\", \n",
    "    index=\"card_id\", \n",
    "    aggfunc=\"count\", \n",
    "    fill_value=0\n",
    ").reset_index()\n",
    "print(\"Process pivot completed\")\n",
    "\n",
    "list_subsector = df_subsector_pivot.columns.tolist()[1:]\n",
    "df_subsector_pivot[\"user_subsector_idx\"] = np.argmax(df_subsector_pivot.as_matrix()[:, 1:], axis=1)\n",
    "df_subsector_pivot[\"user_subsector\"] = df_subsector_pivot.user_subsector_idx.apply(lambda x:list_subsector[x])\n",
    "df_subsector = df_subsector_pivot[[\"card_id\", \"user_subsector\"]]\n",
    "print(\"Process subsector-select completed\")\n",
    "\n",
    "df_transaction = merge_process(df_transaction, df_subsector)\n",
    "print(\"Process merge completed\")"
   ]
  },
  {
   "cell_type": "code",
   "execution_count": 124,
   "metadata": {},
   "outputs": [],
   "source": [
    "whole_merged = merge_process(whole, df_transaction)\n",
    "\n",
    "whole_merged = whole_merged.drop([\"first_active_month\", \"card_id\"], axis=1)"
   ]
  },
  {
   "cell_type": "code",
   "execution_count": 125,
   "metadata": {},
   "outputs": [],
   "source": [
    "train = whole_merged.iloc[:201917]\n",
    "test = whole_merged.iloc[201917:].reset_index(drop=True)"
   ]
  },
  {
   "cell_type": "code",
   "execution_count": 126,
   "metadata": {},
   "outputs": [
    {
     "name": "stdout",
     "output_type": "stream",
     "text": [
      "Process user_city completed\n",
      "Process user_state completed\n",
      "Process user_subsector completed\n"
     ]
    }
   ],
   "source": [
    "df_category_merged = pd.concat([train, target], axis=1)\n",
    "df_category = df_category_merged.groupby(\"user_city\")[\"target\"].mean().reset_index()\n",
    "df_category.columns = [\"user_city\", \"mean_target_city\"]\n",
    "train = pd.merge(train, df_category, on=\"user_city\", how=\"left\")\n",
    "test = pd.merge(test, df_category, on=\"user_city\", how=\"left\")\n",
    "print(\"Process user_city completed\")\n",
    "\n",
    "\n",
    "df_category = df_category_merged.groupby(\"user_state\")[\"target\"].mean().reset_index()\n",
    "df_category.columns = [\"user_state\", \"mean_target_state\"]\n",
    "train = pd.merge(train, df_category, on=\"user_state\", how=\"left\")\n",
    "test = pd.merge(test, df_category, on=\"user_state\", how=\"left\")\n",
    "print(\"Process user_state completed\")\n",
    "\n",
    "\n",
    "df_category = df_category_merged.groupby(\"user_subsector\")[\"target\"].mean().reset_index()\n",
    "df_category.columns = [\"user_subsector\", \"mean_target_subsector\"]\n",
    "train = pd.merge(train, df_category, on=\"user_subsector\", how=\"left\")\n",
    "test = pd.merge(test, df_category, on=\"user_subsector\", how=\"left\")\n",
    "print(\"Process user_subsector completed\")"
   ]
  },
  {
   "cell_type": "code",
   "execution_count": 127,
   "metadata": {},
   "outputs": [],
   "source": [
    "# reg_lgb = lgb.LGBMRegressor(\n",
    "#     n_estimators=2000,\n",
    "#     num_leaves= 70,\n",
    "#     min_data_in_leaf= 30, \n",
    "#     objective=\"regression\",\n",
    "#     max_depth= 5,  # -1\n",
    "#     learning_rate= 4.6291649984501184e-07,   # 0.0041\n",
    "#     boosting= \"gbdt\",\n",
    "#     feature_fraction= 0.9,\n",
    "#     bagging_freq= 1,\n",
    "#     bagging_fraction= 0.9,\n",
    "#     bagging_seed= 11,\n",
    "#     metric= \"rmse\"\n",
    "# )"
   ]
  },
  {
   "cell_type": "code",
   "execution_count": 128,
   "metadata": {},
   "outputs": [],
   "source": [
    "def cross_validation(param, num_round, tr, tg, cv=4):\n",
    "    scores = []\n",
    "    kfold = KFold(n_splits=cv, random_state=1, shuffle=True)\n",
    "    for tr_idx, te_idx in kfold.split(tr.index):\n",
    "        X_train, X_test = tr.iloc[tr_idx], tr.iloc[te_idx]\n",
    "        Y_train, Y_test = tg.iloc[tr_idx], tg.iloc[te_idx]\n",
    "        \n",
    "        dtrain = lgb.Dataset(X_train, label=Y_train)\n",
    "        gbm = lgb.train(param, dtrain, num_round)\n",
    "        \n",
    "        predict = gbm.predict(X_test)\n",
    "        \n",
    "        score = np.sqrt(mean_squared_error(predict, Y_test))\n",
    "        scores.append(score)\n",
    "    \n",
    "    validation_score = np.mean(scores)\n",
    "    return validation_score"
   ]
  },
  {
   "cell_type": "code",
   "execution_count": 129,
   "metadata": {},
   "outputs": [],
   "source": [
    "param = {\n",
    "    'objective': 'regression', \n",
    "    'metric': 'rmse',\n",
    "    'verbosity': -1,\n",
    "    'boosting_type': 'gbdt',\n",
    "    'num_leaves': 31,\n",
    "    'learning_rate': 0.02756851439966611\n",
    "}\n",
    "\n",
    "num_round = 10000"
   ]
  },
  {
   "cell_type": "code",
   "execution_count": 130,
   "metadata": {
    "scrolled": true
   },
   "outputs": [
    {
     "data": {
      "text/plain": [
       "3.7589240028716118"
      ]
     },
     "execution_count": 130,
     "metadata": {},
     "output_type": "execute_result"
    }
   ],
   "source": [
    "cross_validation(param, num_round, train, target)  # 3.694102676114601 (cross validation) → 3.747(Kaggle)"
   ]
  },
  {
   "cell_type": "code",
   "execution_count": 131,
   "metadata": {},
   "outputs": [],
   "source": [
    "dtrain = lgb.Dataset(train, label=target)\n",
    "gbm = lgb.train(param, dtrain, num_round)"
   ]
  },
  {
   "cell_type": "code",
   "execution_count": 132,
   "metadata": {},
   "outputs": [],
   "source": [
    "predict = gbm.predict(test)"
   ]
  },
  {
   "cell_type": "code",
   "execution_count": 133,
   "metadata": {
    "scrolled": true
   },
   "outputs": [
    {
     "data": {
      "text/plain": [
       "<matplotlib.axes._subplots.AxesSubplot at 0x12c9e0128>"
      ]
     },
     "execution_count": 133,
     "metadata": {},
     "output_type": "execute_result"
    },
    {
     "data": {
      "image/png": "[encoded data removed]",
      "text/plain": [
       "<Figure size 1080x2160 with 1 Axes>"
      ]
     },
     "metadata": {},
     "output_type": "display_data"
    }
   ],
   "source": [
    "fig, ax = plt.subplots(figsize=(15,30))\n",
    "lgb.plot_importance(gbm, ax=ax)"
   ]
  },
  {
   "cell_type": "code",
   "execution_count": 134,
   "metadata": {},
   "outputs": [],
   "source": [
    "predict2 = np.where(predict<-6, -31, predict)"
   ]
  },
  {
   "cell_type": "code",
   "execution_count": 138,
   "metadata": {},
   "outputs": [],
   "source": [
    "submission = pd.DataFrame({\"card_id\":raw_test.card_id, \"target\":predict})\n",
    "submission.to_csv(\"./output/submission_20181205_lightgbm.csv\", index=False)"
   ]
  },
  {
   "cell_type": "markdown",
   "metadata": {},
   "source": [
    "- 割り算？\n",
    "- 2nd ratestを特徴量に追加？"
   ]
  },
  {
   "cell_type": "code",
   "execution_count": 86,
   "metadata": {},
   "outputs": [
    {
     "name": "stderr",
     "output_type": "stream",
     "text": [
      "[I 2018-12-05 23:05:25,448] Finished a trial resulted in value: 3.6885308175383202. Current best value is 3.6885308175383202 with parameters: {'num_round': 452, 'boosting': 'gbdt', 'num_leaves': 65, 'learning_rate': 0.0021293226798125646}.\n",
      "[I 2018-12-05 23:06:09,769] Finished a trial resulted in value: 3.755056165288493. Current best value is 3.6885308175383202 with parameters: {'num_round': 452, 'boosting': 'gbdt', 'num_leaves': 65, 'learning_rate': 0.0021293226798125646}.\n",
      "[I 2018-12-05 23:07:02,692] Finished a trial resulted in value: 3.807196858330012. Current best value is 3.6885308175383202 with parameters: {'num_round': 452, 'boosting': 'gbdt', 'num_leaves': 65, 'learning_rate': 0.0021293226798125646}.\n",
      "[I 2018-12-05 23:07:42,380] Finished a trial resulted in value: 3.6988630958397546. Current best value is 3.6885308175383202 with parameters: {'num_round': 452, 'boosting': 'gbdt', 'num_leaves': 65, 'learning_rate': 0.0021293226798125646}.\n",
      "[I 2018-12-05 23:08:03,466] Finished a trial resulted in value: 3.817820328775917. Current best value is 3.6885308175383202 with parameters: {'num_round': 452, 'boosting': 'gbdt', 'num_leaves': 65, 'learning_rate': 0.0021293226798125646}.\n",
      "[I 2018-12-05 23:08:51,524] Finished a trial resulted in value: 3.841425423458701. Current best value is 3.6885308175383202 with parameters: {'num_round': 452, 'boosting': 'gbdt', 'num_leaves': 65, 'learning_rate': 0.0021293226798125646}.\n",
      "[I 2018-12-05 23:09:52,113] Finished a trial resulted in value: 3.6716264414536166. Current best value is 3.6716264414536166 with parameters: {'num_round': 865, 'boosting': 'dart', 'num_leaves': 86, 'learning_rate': 0.03348926371383197, 'drop_rate': 0.001407528567967131, 'skip_drop': 0.0045980425936241}.\n",
      "[I 2018-12-05 23:11:20,439] Finished a trial resulted in value: 3.866877354137406. Current best value is 3.6716264414536166 with parameters: {'num_round': 865, 'boosting': 'dart', 'num_leaves': 86, 'learning_rate': 0.03348926371383197, 'drop_rate': 0.001407528567967131, 'skip_drop': 0.0045980425936241}.\n",
      "[I 2018-12-05 23:11:36,563] Finished a trial resulted in value: 3.6517357269872632. Current best value is 3.6517357269872632 with parameters: {'num_round': 364, 'boosting': 'gbdt', 'num_leaves': 31, 'learning_rate': 0.02756851439966611}.\n"
     ]
    },
    {
     "ename": "KeyboardInterrupt",
     "evalue": "",
     "output_type": "error",
     "traceback": [
      "\u001b[0;31m---------------------------------------------------------------------------\u001b[0m",
      "\u001b[0;31mKeyboardInterrupt\u001b[0m                         Traceback (most recent call last)",
      "\u001b[0;32m<ipython-input-86-f30ced46bb56>\u001b[0m in \u001b[0;36m<module>\u001b[0;34m()\u001b[0m\n\u001b[1;32m     25\u001b[0m \u001b[0;34m\u001b[0m\u001b[0m\n\u001b[1;32m     26\u001b[0m \u001b[0mstudy\u001b[0m \u001b[0;34m=\u001b[0m \u001b[0moptuna\u001b[0m\u001b[0;34m.\u001b[0m\u001b[0mcreate_study\u001b[0m\u001b[0;34m(\u001b[0m\u001b[0;34m)\u001b[0m\u001b[0;34m\u001b[0m\u001b[0m\n\u001b[0;32m---> 27\u001b[0;31m \u001b[0mstudy\u001b[0m\u001b[0;34m.\u001b[0m\u001b[0moptimize\u001b[0m\u001b[0;34m(\u001b[0m\u001b[0mobjective\u001b[0m\u001b[0;34m,\u001b[0m \u001b[0mn_trials\u001b[0m\u001b[0;34m=\u001b[0m\u001b[0;36m30\u001b[0m\u001b[0;34m)\u001b[0m\u001b[0;34m\u001b[0m\u001b[0m\n\u001b[0m\u001b[1;32m     28\u001b[0m \u001b[0;34m\u001b[0m\u001b[0m\n\u001b[1;32m     29\u001b[0m \u001b[0mprint\u001b[0m\u001b[0;34m(\u001b[0m\u001b[0;34m'Number of finished trials: {}'\u001b[0m\u001b[0;34m.\u001b[0m\u001b[0mformat\u001b[0m\u001b[0;34m(\u001b[0m\u001b[0mlen\u001b[0m\u001b[0;34m(\u001b[0m\u001b[0mstudy\u001b[0m\u001b[0;34m.\u001b[0m\u001b[0mtrials\u001b[0m\u001b[0;34m)\u001b[0m\u001b[0;34m)\u001b[0m\u001b[0;34m)\u001b[0m\u001b[0;34m\u001b[0m\u001b[0m\n",
      "\u001b[0;32m~/.pyenv/versions/3.6.6/lib/python3.6/site-packages/optuna/study.py\u001b[0m in \u001b[0;36moptimize\u001b[0;34m(self, func, n_trials, timeout, n_jobs, catch)\u001b[0m\n\u001b[1;32m    219\u001b[0m \u001b[0;34m\u001b[0m\u001b[0m\n\u001b[1;32m    220\u001b[0m         \u001b[0;32mif\u001b[0m \u001b[0mn_jobs\u001b[0m \u001b[0;34m==\u001b[0m \u001b[0;36m1\u001b[0m\u001b[0;34m:\u001b[0m\u001b[0;34m\u001b[0m\u001b[0m\n\u001b[0;32m--> 221\u001b[0;31m             \u001b[0mself\u001b[0m\u001b[0;34m.\u001b[0m\u001b[0m_optimize_sequential\u001b[0m\u001b[0;34m(\u001b[0m\u001b[0mfunc\u001b[0m\u001b[0;34m,\u001b[0m \u001b[0mn_trials\u001b[0m\u001b[0;34m,\u001b[0m \u001b[0mtimeout\u001b[0m\u001b[0;34m,\u001b[0m \u001b[0mcatch\u001b[0m\u001b[0;34m)\u001b[0m\u001b[0;34m\u001b[0m\u001b[0m\n\u001b[0m\u001b[1;32m    222\u001b[0m         \u001b[0;32melse\u001b[0m\u001b[0;34m:\u001b[0m\u001b[0;34m\u001b[0m\u001b[0m\n\u001b[1;32m    223\u001b[0m             \u001b[0mself\u001b[0m\u001b[0;34m.\u001b[0m\u001b[0m_optimize_parallel\u001b[0m\u001b[0;34m(\u001b[0m\u001b[0mfunc\u001b[0m\u001b[0;34m,\u001b[0m \u001b[0mn_trials\u001b[0m\u001b[0;34m,\u001b[0m \u001b[0mtimeout\u001b[0m\u001b[0;34m,\u001b[0m \u001b[0mn_jobs\u001b[0m\u001b[0;34m,\u001b[0m \u001b[0mcatch\u001b[0m\u001b[0;34m)\u001b[0m\u001b[0;34m\u001b[0m\u001b[0m\n",
      "\u001b[0;32m~/.pyenv/versions/3.6.6/lib/python3.6/site-packages/optuna/study.py\u001b[0m in \u001b[0;36m_optimize_sequential\u001b[0;34m(self, func, n_trials, timeout, catch)\u001b[0m\n\u001b[1;32m    327\u001b[0m                     \u001b[0;32mbreak\u001b[0m\u001b[0;34m\u001b[0m\u001b[0m\n\u001b[1;32m    328\u001b[0m \u001b[0;34m\u001b[0m\u001b[0m\n\u001b[0;32m--> 329\u001b[0;31m             \u001b[0mself\u001b[0m\u001b[0;34m.\u001b[0m\u001b[0m_run_trial\u001b[0m\u001b[0;34m(\u001b[0m\u001b[0mfunc\u001b[0m\u001b[0;34m,\u001b[0m \u001b[0mcatch\u001b[0m\u001b[0;34m)\u001b[0m\u001b[0;34m\u001b[0m\u001b[0m\n\u001b[0m\u001b[1;32m    330\u001b[0m \u001b[0;34m\u001b[0m\u001b[0m\n\u001b[1;32m    331\u001b[0m     def _optimize_parallel(\n",
      "\u001b[0;32m~/.pyenv/versions/3.6.6/lib/python3.6/site-packages/optuna/study.py\u001b[0m in \u001b[0;36m_run_trial\u001b[0;34m(self, func, catch)\u001b[0m\n\u001b[1;32m    398\u001b[0m \u001b[0;34m\u001b[0m\u001b[0m\n\u001b[1;32m    399\u001b[0m         \u001b[0;32mtry\u001b[0m\u001b[0;34m:\u001b[0m\u001b[0;34m\u001b[0m\u001b[0m\n\u001b[0;32m--> 400\u001b[0;31m             \u001b[0mresult\u001b[0m \u001b[0;34m=\u001b[0m \u001b[0mfunc\u001b[0m\u001b[0;34m(\u001b[0m\u001b[0mtrial\u001b[0m\u001b[0;34m)\u001b[0m\u001b[0;34m\u001b[0m\u001b[0m\n\u001b[0m\u001b[1;32m    401\u001b[0m         \u001b[0;32mexcept\u001b[0m \u001b[0mstructs\u001b[0m\u001b[0;34m.\u001b[0m\u001b[0mTrialPruned\u001b[0m \u001b[0;32mas\u001b[0m \u001b[0me\u001b[0m\u001b[0;34m:\u001b[0m\u001b[0;34m\u001b[0m\u001b[0m\n\u001b[1;32m    402\u001b[0m             message = 'Setting trial status as {}. {}'.format(\n",
      "\u001b[0;32m<ipython-input-86-f30ced46bb56>\u001b[0m in \u001b[0;36mobjective\u001b[0;34m(trial)\u001b[0m\n\u001b[1;32m     19\u001b[0m         \u001b[0mparam\u001b[0m\u001b[0;34m[\u001b[0m\u001b[0;34m'other_rate'\u001b[0m\u001b[0;34m]\u001b[0m \u001b[0;34m=\u001b[0m \u001b[0mtrial\u001b[0m\u001b[0;34m.\u001b[0m\u001b[0msuggest_uniform\u001b[0m\u001b[0;34m(\u001b[0m\u001b[0;34m'other_rate'\u001b[0m\u001b[0;34m,\u001b[0m \u001b[0;36m0.0\u001b[0m\u001b[0;34m,\u001b[0m \u001b[0;36m1.0\u001b[0m \u001b[0;34m-\u001b[0m \u001b[0mparam\u001b[0m\u001b[0;34m[\u001b[0m\u001b[0;34m'top_rate'\u001b[0m\u001b[0;34m]\u001b[0m\u001b[0;34m)\u001b[0m\u001b[0;34m\u001b[0m\u001b[0m\n\u001b[1;32m     20\u001b[0m \u001b[0;34m\u001b[0m\u001b[0m\n\u001b[0;32m---> 21\u001b[0;31m     \u001b[0mgbm\u001b[0m \u001b[0;34m=\u001b[0m \u001b[0mlgb\u001b[0m\u001b[0;34m.\u001b[0m\u001b[0mtrain\u001b[0m\u001b[0;34m(\u001b[0m\u001b[0mparam\u001b[0m\u001b[0;34m,\u001b[0m \u001b[0mdtrain\u001b[0m\u001b[0;34m,\u001b[0m \u001b[0mnum_round\u001b[0m\u001b[0;34m)\u001b[0m\u001b[0;34m\u001b[0m\u001b[0m\n\u001b[0m\u001b[1;32m     22\u001b[0m     \u001b[0mpreds\u001b[0m \u001b[0;34m=\u001b[0m \u001b[0mgbm\u001b[0m\u001b[0;34m.\u001b[0m\u001b[0mpredict\u001b[0m\u001b[0;34m(\u001b[0m\u001b[0mX_test\u001b[0m\u001b[0;34m)\u001b[0m\u001b[0;34m\u001b[0m\u001b[0m\n\u001b[1;32m     23\u001b[0m     \u001b[0mrmse\u001b[0m \u001b[0;34m=\u001b[0m \u001b[0mnp\u001b[0m\u001b[0;34m.\u001b[0m\u001b[0msqrt\u001b[0m\u001b[0;34m(\u001b[0m\u001b[0mmean_squared_error\u001b[0m\u001b[0;34m(\u001b[0m\u001b[0mY_test\u001b[0m\u001b[0;34m,\u001b[0m \u001b[0mpreds\u001b[0m\u001b[0;34m)\u001b[0m\u001b[0;34m)\u001b[0m\u001b[0;34m\u001b[0m\u001b[0m\n",
      "\u001b[0;32m~/.pyenv/versions/3.6.6/lib/python3.6/site-packages/lightgbm/engine.py\u001b[0m in \u001b[0;36mtrain\u001b[0;34m(params, train_set, num_boost_round, valid_sets, valid_names, fobj, feval, init_model, feature_name, categorical_feature, early_stopping_rounds, evals_result, verbose_eval, learning_rates, keep_training_booster, callbacks)\u001b[0m\n\u001b[1;32m    214\u001b[0m                                     evaluation_result_list=None))\n\u001b[1;32m    215\u001b[0m \u001b[0;34m\u001b[0m\u001b[0m\n\u001b[0;32m--> 216\u001b[0;31m         \u001b[0mbooster\u001b[0m\u001b[0;34m.\u001b[0m\u001b[0mupdate\u001b[0m\u001b[0;34m(\u001b[0m\u001b[0mfobj\u001b[0m\u001b[0;34m=\u001b[0m\u001b[0mfobj\u001b[0m\u001b[0;34m)\u001b[0m\u001b[0;34m\u001b[0m\u001b[0m\n\u001b[0m\u001b[1;32m    217\u001b[0m \u001b[0;34m\u001b[0m\u001b[0m\n\u001b[1;32m    218\u001b[0m         \u001b[0mevaluation_result_list\u001b[0m \u001b[0;34m=\u001b[0m \u001b[0;34m[\u001b[0m\u001b[0;34m]\u001b[0m\u001b[0;34m\u001b[0m\u001b[0m\n",
      "\u001b[0;32m~/.pyenv/versions/3.6.6/lib/python3.6/site-packages/lightgbm/basic.py\u001b[0m in \u001b[0;36mupdate\u001b[0;34m(self, train_set, fobj)\u001b[0m\n\u001b[1;32m   1758\u001b[0m             _safe_call(_LIB.LGBM_BoosterUpdateOneIter(\n\u001b[1;32m   1759\u001b[0m                 \u001b[0mself\u001b[0m\u001b[0;34m.\u001b[0m\u001b[0mhandle\u001b[0m\u001b[0;34m,\u001b[0m\u001b[0;34m\u001b[0m\u001b[0m\n\u001b[0;32m-> 1760\u001b[0;31m                 ctypes.byref(is_finished)))\n\u001b[0m\u001b[1;32m   1761\u001b[0m             \u001b[0mself\u001b[0m\u001b[0;34m.\u001b[0m\u001b[0m__is_predicted_cur_iter\u001b[0m \u001b[0;34m=\u001b[0m \u001b[0;34m[\u001b[0m\u001b[0;32mFalse\u001b[0m \u001b[0;32mfor\u001b[0m \u001b[0m_\u001b[0m \u001b[0;32min\u001b[0m \u001b[0mrange_\u001b[0m\u001b[0;34m(\u001b[0m\u001b[0mself\u001b[0m\u001b[0;34m.\u001b[0m\u001b[0m__num_dataset\u001b[0m\u001b[0;34m)\u001b[0m\u001b[0;34m]\u001b[0m\u001b[0;34m\u001b[0m\u001b[0m\n\u001b[1;32m   1762\u001b[0m             \u001b[0;32mreturn\u001b[0m \u001b[0mis_finished\u001b[0m\u001b[0;34m.\u001b[0m\u001b[0mvalue\u001b[0m \u001b[0;34m==\u001b[0m \u001b[0;36m1\u001b[0m\u001b[0;34m\u001b[0m\u001b[0m\n",
      "\u001b[0;31mKeyboardInterrupt\u001b[0m: "
     ]
    }
   ],
   "source": [
    "import optuna\n",
    "\n",
    "def objective(trial):\n",
    "    X_train, X_test, Y_train, Y_test = train_test_split(train, target, test_size=0.25)\n",
    "    dtrain = lgb.Dataset(X_train, label=Y_train)\n",
    "    \n",
    "    num_round = trial.suggest_int('num_round', 1, 1000)\n",
    "    param = {'objective': 'regression', 'metric': 'rmse', 'verbosity': -1,\n",
    "             'boosting_type': trial.suggest_categorical('boosting', ['gbdt', 'dart', 'goss']),\n",
    "             'num_leaves': trial.suggest_int('num_leaves', 10, 100),\n",
    "             'learning_rate': trial.suggest_loguniform('learning_rate', 1e-4, 1.0)\n",
    "             }\n",
    "    \n",
    "    if param['boosting_type'] == 'dart':\n",
    "        param['drop_rate'] = trial.suggest_loguniform('drop_rate', 1e-4, 1.0)\n",
    "        param['skip_drop'] = trial.suggest_loguniform('skip_drop', 1e-4, 1.0)\n",
    "    if param['boosting_type'] == 'goss':\n",
    "        param['top_rate'] = trial.suggest_uniform('top_rate', 0.0, 1.0)\n",
    "        param['other_rate'] = trial.suggest_uniform('other_rate', 0.0, 1.0 - param['top_rate'])\n",
    "\n",
    "    gbm = lgb.train(param, dtrain, num_round)\n",
    "    preds = gbm.predict(X_test)\n",
    "    rmse = np.sqrt(mean_squared_error(Y_test, preds))\n",
    "    return rmse\n",
    "\n",
    "study = optuna.create_study()\n",
    "study.optimize(objective, n_trials=30)\n",
    "\n",
    "print('Number of finished trials: {}'.format(len(study.trials)))\n",
    "\n",
    "print('Best trial:')\n",
    "trial = study.best_trial\n",
    "print('  Value: {}'.format(trial.value))\n",
    "\n",
    "print('  Params: ')\n",
    "for key, value in trial.params.items():\n",
    "    print('    {}: {}'.format(key, value))"
   ]
  },
  {
   "cell_type": "code",
   "execution_count": null,
   "metadata": {},
   "outputs": [],
   "source": []
  },
  {
   "cell_type": "code",
   "execution_count": null,
   "metadata": {},
   "outputs": [],
   "source": []
  }
 ],
 "metadata": {
  "kernelspec": {
   "display_name": "Python 3",
   "language": "python",
   "name": "python3"
  },
  "language_info": {
   "codemirror_mode": {
    "name": "ipython",
    "version": 3
   },
   "file_extension": ".py",
   "mimetype": "text/x-python",
   "name": "python",
   "nbconvert_exporter": "python",
   "pygments_lexer": "ipython3",
   "version": "3.6.6"
  }
 },
 "nbformat": 4,
 "nbformat_minor": 2
}
