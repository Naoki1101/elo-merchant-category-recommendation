{
 "cells": [
  {
   "cell_type": "code",
   "execution_count": 56,
   "metadata": {},
   "outputs": [],
   "source": [
    "import numpy as np\n",
    "import pandas as pd\n",
    "import datetime\n",
    "\n",
    "%matplotlib inline\n",
    "import matplotlib.pyplot as plt\n",
    "\n",
    "\n",
    "import warnings\n",
    "warnings.filterwarnings(\"ignore\")\n",
    "\n",
    "import lightgbm as lgb\n",
    "import xgboost as xgb\n",
    "\n",
    "from sklearn.metrics import mean_squared_error\n",
    "from sklearn.model_selection import GridSearchCV\n",
    "from sklearn.model_selection import KFold"
   ]
  },
  {
   "cell_type": "code",
   "execution_count": 41,
   "metadata": {},
   "outputs": [],
   "source": [
    "raw_train = pd.read_csv(\"./input/train.csv\")\n",
    "raw_test = pd.read_csv(\"./input/test.csv\")"
   ]
  },
  {
   "cell_type": "code",
   "execution_count": 42,
   "metadata": {},
   "outputs": [],
   "source": [
    "target = raw_train.target\n",
    "whole = pd.concat([raw_train.drop(\"target\", axis=1), raw_test], axis=0).reset_index(drop=True)"
   ]
  },
  {
   "cell_type": "code",
   "execution_count": 43,
   "metadata": {
    "scrolled": true
   },
   "outputs": [],
   "source": [
    "whole.first_active_month = whole.first_active_month.fillna(\"2017-09\")\n",
    "whole.first_active_month = pd.to_datetime(whole.first_active_month.apply(lambda x:str(x)+\"-01\"))\n",
    "whole[\"elapsed_time\"] = (datetime.datetime(2018, 2, 1) - whole.first_active_month).apply(lambda x:x.days)"
   ]
  },
  {
   "cell_type": "code",
   "execution_count": 44,
   "metadata": {
    "scrolled": true
   },
   "outputs": [
    {
     "data": {
      "text/html": [
       "<div>\n",
       "<style scoped>\n",
       "    .dataframe tbody tr th:only-of-type {\n",
       "        vertical-align: middle;\n",
       "    }\n",
       "\n",
       "    .dataframe tbody tr th {\n",
       "        vertical-align: top;\n",
       "    }\n",
       "\n",
       "    .dataframe thead th {\n",
       "        text-align: right;\n",
       "    }\n",
       "</style>\n",
       "<table border=\"1\" class=\"dataframe\">\n",
       "  <thead>\n",
       "    <tr style=\"text-align: right;\">\n",
       "      <th></th>\n",
       "      <th>first_active_month</th>\n",
       "      <th>card_id</th>\n",
       "      <th>feature_1</th>\n",
       "      <th>feature_2</th>\n",
       "      <th>feature_3</th>\n",
       "      <th>elapsed_time</th>\n",
       "    </tr>\n",
       "  </thead>\n",
       "  <tbody>\n",
       "    <tr>\n",
       "      <th>0</th>\n",
       "      <td>2017-06-01</td>\n",
       "      <td>C_ID_92a2005557</td>\n",
       "      <td>5</td>\n",
       "      <td>2</td>\n",
       "      <td>1</td>\n",
       "      <td>245</td>\n",
       "    </tr>\n",
       "    <tr>\n",
       "      <th>1</th>\n",
       "      <td>2017-01-01</td>\n",
       "      <td>C_ID_3d0044924f</td>\n",
       "      <td>4</td>\n",
       "      <td>1</td>\n",
       "      <td>0</td>\n",
       "      <td>396</td>\n",
       "    </tr>\n",
       "    <tr>\n",
       "      <th>2</th>\n",
       "      <td>2016-08-01</td>\n",
       "      <td>C_ID_d639edf6cd</td>\n",
       "      <td>2</td>\n",
       "      <td>2</td>\n",
       "      <td>0</td>\n",
       "      <td>549</td>\n",
       "    </tr>\n",
       "    <tr>\n",
       "      <th>3</th>\n",
       "      <td>2017-09-01</td>\n",
       "      <td>C_ID_186d6a6901</td>\n",
       "      <td>4</td>\n",
       "      <td>3</td>\n",
       "      <td>0</td>\n",
       "      <td>153</td>\n",
       "    </tr>\n",
       "    <tr>\n",
       "      <th>4</th>\n",
       "      <td>2017-11-01</td>\n",
       "      <td>C_ID_cdbd2c0db2</td>\n",
       "      <td>1</td>\n",
       "      <td>3</td>\n",
       "      <td>0</td>\n",
       "      <td>92</td>\n",
       "    </tr>\n",
       "  </tbody>\n",
       "</table>\n",
       "</div>"
      ],
      "text/plain": [
       "  first_active_month          card_id  feature_1  feature_2  feature_3  \\\n",
       "0         2017-06-01  C_ID_92a2005557          5          2          1   \n",
       "1         2017-01-01  C_ID_3d0044924f          4          1          0   \n",
       "2         2016-08-01  C_ID_d639edf6cd          2          2          0   \n",
       "3         2017-09-01  C_ID_186d6a6901          4          3          0   \n",
       "4         2017-11-01  C_ID_cdbd2c0db2          1          3          0   \n",
       "\n",
       "   elapsed_time  \n",
       "0           245  \n",
       "1           396  \n",
       "2           549  \n",
       "3           153  \n",
       "4            92  "
      ]
     },
     "execution_count": 44,
     "metadata": {},
     "output_type": "execute_result"
    }
   ],
   "source": [
    "whole.head()"
   ]
  },
  {
   "cell_type": "code",
   "execution_count": 8,
   "metadata": {
    "scrolled": true
   },
   "outputs": [],
   "source": [
    "h_trs = pd.read_csv(\"./input/historical_transactions.csv\")\n",
    "n_trs = pd.read_csv(\"./input/new_merchant_transactions.csv\")"
   ]
  },
  {
   "cell_type": "code",
   "execution_count": 9,
   "metadata": {},
   "outputs": [],
   "source": [
    "trs = pd.concat([h_trs, n_trs], axis=0).reset_index(drop=True)"
   ]
  },
  {
   "cell_type": "code",
   "execution_count": 10,
   "metadata": {},
   "outputs": [
    {
     "data": {
      "text/html": [
       "<div>\n",
       "<style scoped>\n",
       "    .dataframe tbody tr th:only-of-type {\n",
       "        vertical-align: middle;\n",
       "    }\n",
       "\n",
       "    .dataframe tbody tr th {\n",
       "        vertical-align: top;\n",
       "    }\n",
       "\n",
       "    .dataframe thead th {\n",
       "        text-align: right;\n",
       "    }\n",
       "</style>\n",
       "<table border=\"1\" class=\"dataframe\">\n",
       "  <thead>\n",
       "    <tr style=\"text-align: right;\">\n",
       "      <th></th>\n",
       "      <th>authorized_flag</th>\n",
       "      <th>card_id</th>\n",
       "      <th>city_id</th>\n",
       "      <th>category_1</th>\n",
       "      <th>installments</th>\n",
       "      <th>category_3</th>\n",
       "      <th>merchant_category_id</th>\n",
       "      <th>merchant_id</th>\n",
       "      <th>month_lag</th>\n",
       "      <th>purchase_amount</th>\n",
       "      <th>purchase_date</th>\n",
       "      <th>category_2</th>\n",
       "      <th>state_id</th>\n",
       "      <th>subsector_id</th>\n",
       "    </tr>\n",
       "  </thead>\n",
       "  <tbody>\n",
       "    <tr>\n",
       "      <th>0</th>\n",
       "      <td>Y</td>\n",
       "      <td>C_ID_4e6213e9bc</td>\n",
       "      <td>88</td>\n",
       "      <td>N</td>\n",
       "      <td>0</td>\n",
       "      <td>A</td>\n",
       "      <td>80</td>\n",
       "      <td>M_ID_e020e9b302</td>\n",
       "      <td>-8</td>\n",
       "      <td>-0.703331</td>\n",
       "      <td>2017-06-25 15:33:07</td>\n",
       "      <td>1.0</td>\n",
       "      <td>16</td>\n",
       "      <td>37</td>\n",
       "    </tr>\n",
       "    <tr>\n",
       "      <th>1</th>\n",
       "      <td>Y</td>\n",
       "      <td>C_ID_4e6213e9bc</td>\n",
       "      <td>88</td>\n",
       "      <td>N</td>\n",
       "      <td>0</td>\n",
       "      <td>A</td>\n",
       "      <td>367</td>\n",
       "      <td>M_ID_86ec983688</td>\n",
       "      <td>-7</td>\n",
       "      <td>-0.733128</td>\n",
       "      <td>2017-07-15 12:10:45</td>\n",
       "      <td>1.0</td>\n",
       "      <td>16</td>\n",
       "      <td>16</td>\n",
       "    </tr>\n",
       "    <tr>\n",
       "      <th>2</th>\n",
       "      <td>Y</td>\n",
       "      <td>C_ID_4e6213e9bc</td>\n",
       "      <td>88</td>\n",
       "      <td>N</td>\n",
       "      <td>0</td>\n",
       "      <td>A</td>\n",
       "      <td>80</td>\n",
       "      <td>M_ID_979ed661fc</td>\n",
       "      <td>-6</td>\n",
       "      <td>-0.720386</td>\n",
       "      <td>2017-08-09 22:04:29</td>\n",
       "      <td>1.0</td>\n",
       "      <td>16</td>\n",
       "      <td>37</td>\n",
       "    </tr>\n",
       "    <tr>\n",
       "      <th>3</th>\n",
       "      <td>Y</td>\n",
       "      <td>C_ID_4e6213e9bc</td>\n",
       "      <td>88</td>\n",
       "      <td>N</td>\n",
       "      <td>0</td>\n",
       "      <td>A</td>\n",
       "      <td>560</td>\n",
       "      <td>M_ID_e6d5ae8ea6</td>\n",
       "      <td>-5</td>\n",
       "      <td>-0.735352</td>\n",
       "      <td>2017-09-02 10:06:26</td>\n",
       "      <td>1.0</td>\n",
       "      <td>16</td>\n",
       "      <td>34</td>\n",
       "    </tr>\n",
       "    <tr>\n",
       "      <th>4</th>\n",
       "      <td>Y</td>\n",
       "      <td>C_ID_4e6213e9bc</td>\n",
       "      <td>88</td>\n",
       "      <td>N</td>\n",
       "      <td>0</td>\n",
       "      <td>A</td>\n",
       "      <td>80</td>\n",
       "      <td>M_ID_e020e9b302</td>\n",
       "      <td>-11</td>\n",
       "      <td>-0.722865</td>\n",
       "      <td>2017-03-10 01:14:19</td>\n",
       "      <td>1.0</td>\n",
       "      <td>16</td>\n",
       "      <td>37</td>\n",
       "    </tr>\n",
       "  </tbody>\n",
       "</table>\n",
       "</div>"
      ],
      "text/plain": [
       "  authorized_flag          card_id  city_id category_1  installments  \\\n",
       "0               Y  C_ID_4e6213e9bc       88          N             0   \n",
       "1               Y  C_ID_4e6213e9bc       88          N             0   \n",
       "2               Y  C_ID_4e6213e9bc       88          N             0   \n",
       "3               Y  C_ID_4e6213e9bc       88          N             0   \n",
       "4               Y  C_ID_4e6213e9bc       88          N             0   \n",
       "\n",
       "  category_3  merchant_category_id      merchant_id  month_lag  \\\n",
       "0          A                    80  M_ID_e020e9b302         -8   \n",
       "1          A                   367  M_ID_86ec983688         -7   \n",
       "2          A                    80  M_ID_979ed661fc         -6   \n",
       "3          A                   560  M_ID_e6d5ae8ea6         -5   \n",
       "4          A                    80  M_ID_e020e9b302        -11   \n",
       "\n",
       "   purchase_amount        purchase_date  category_2  state_id  subsector_id  \n",
       "0        -0.703331  2017-06-25 15:33:07         1.0        16            37  \n",
       "1        -0.733128  2017-07-15 12:10:45         1.0        16            16  \n",
       "2        -0.720386  2017-08-09 22:04:29         1.0        16            37  \n",
       "3        -0.735352  2017-09-02 10:06:26         1.0        16            34  \n",
       "4        -0.722865  2017-03-10 01:14:19         1.0        16            37  "
      ]
     },
     "execution_count": 10,
     "metadata": {},
     "output_type": "execute_result"
    }
   ],
   "source": [
    "trs.head()"
   ]
  },
  {
   "cell_type": "markdown",
   "metadata": {},
   "source": [
    "## RFM\n",
    "---"
   ]
  },
  {
   "cell_type": "markdown",
   "metadata": {},
   "source": [
    "recency\n",
    "- 最後に利用した日（2018/05/01を基準日としている）"
   ]
  },
  {
   "cell_type": "code",
   "execution_count": 11,
   "metadata": {
    "scrolled": true
   },
   "outputs": [],
   "source": [
    "recency_df = trs.groupby(\"card_id\")[\"purchase_date\"].max().reset_index()\n",
    "recency_df.purchase_date = pd.to_datetime(recency_df.purchase_date)\n",
    "recency_df[\"recency\"] = (datetime.datetime(2018, 5, 1, 0, 0, 0) - recency_df.purchase_date).apply(lambda x:x.days)"
   ]
  },
  {
   "cell_type": "markdown",
   "metadata": {},
   "source": [
    "frequency\n",
    "- 一ヶ月間での利用頻度"
   ]
  },
  {
   "cell_type": "code",
   "execution_count": 12,
   "metadata": {},
   "outputs": [],
   "source": [
    "frequency_df = trs.card_id.value_counts().reset_index()\n",
    "frequency_df.columns = [\"card_id\", \"use_num\"]\n",
    "frequency_df = frequency_df.sort_values(by=\"card_id\").reset_index(drop=True)\n",
    "frequency_df[\"frequency\"] = frequency_df.use_num / 3.0"
   ]
  },
  {
   "cell_type": "markdown",
   "metadata": {},
   "source": [
    "monetary\n",
    "- 平均購入金額"
   ]
  },
  {
   "cell_type": "code",
   "execution_count": 13,
   "metadata": {
    "scrolled": true
   },
   "outputs": [],
   "source": [
    "monetary_df = trs.groupby(\"card_id\")[\"purchase_amount\"].mean().reset_index()"
   ]
  },
  {
   "cell_type": "markdown",
   "metadata": {},
   "source": [
    "## その他\n",
    "---"
   ]
  },
  {
   "cell_type": "code",
   "execution_count": 14,
   "metadata": {},
   "outputs": [],
   "source": [
    "authorized_df = trs[[\"card_id\", \"authorized_flag\"]].copy()\n",
    "authorized_df.authorized_flag = authorized_df.authorized_flag.replace({\"Y\":0, \"N\":1})\n",
    "authorized_df = authorized_df.groupby(\"card_id\")[\"authorized_flag\"].sum().reset_index()\n",
    "\n",
    "record = trs.card_id.value_counts().reset_index()\n",
    "record.columns = [\"card_id\", \"record_num\"]\n",
    "\n",
    "authorized_df = pd.merge(authorized_df, record, on=\"card_id\", how=\"left\")\n",
    "authorized_df[\"authorized_N_percentage\"] = authorized_df.authorized_flag / authorized_df.record_num"
   ]
  },
  {
   "cell_type": "code",
   "execution_count": 15,
   "metadata": {
    "scrolled": true
   },
   "outputs": [],
   "source": [
    "category_3_df = trs[[\"card_id\", \"category_3\"]]\n",
    "category_3_df.category_3 = category_3_df.dropna()\n",
    "\n",
    "category_3_C_df.category_3 = category_3_C_df.category_3.apply(lambda x:1 if x == \"C\" else 0)\n",
    "category_3_C_df = category_3_C_df.groupby(\"card_id\")[\"category_3\"].sum().reset_index()"
   ]
  },
  {
   "cell_type": "code",
   "execution_count": 16,
   "metadata": {},
   "outputs": [],
   "source": [
    "rf_df = pd.merge(\n",
    "    recency_df[[\"card_id\", \"recency\"]], \n",
    "    frequency_df, \n",
    "    on=\"card_id\", \n",
    "    how=\"left\"\n",
    ")\n",
    "\n",
    "rfm_df = pd.merge(\n",
    "    rf_df, \n",
    "    monetary_df, \n",
    "    on=\"card_id\", \n",
    "    how=\"left\"\n",
    ")\n",
    "\n",
    "transaction = pd.merge(rfm_df, authorized_df, on=\"card_id\", how=\"left\")\n",
    "transaction = pd.merge(transaction, category_3_C_df, on=\"card_id\", how=\"left\")\n",
    "\n",
    "transaction.to_csv(\"./input/transaction_20181201.csv.gz\", index=False)"
   ]
  },
  {
   "cell_type": "code",
   "execution_count": 45,
   "metadata": {
    "scrolled": true
   },
   "outputs": [],
   "source": [
    "whole = pd.merge(\n",
    "    whole, \n",
    "    transaction,\n",
    "    on=\"card_id\",\n",
    "    how=\"left\"\n",
    ")\n",
    "\n",
    "whole = whole.drop([\"card_id\", \"first_active_month\"], axis=1)\n",
    "\n",
    "\n",
    "train = whole.iloc[:201917]\n",
    "test = whole.iloc[201917:].reset_index(drop=True)"
   ]
  },
  {
   "cell_type": "code",
   "execution_count": 46,
   "metadata": {},
   "outputs": [
    {
     "data": {
      "text/html": [
       "<div>\n",
       "<style scoped>\n",
       "    .dataframe tbody tr th:only-of-type {\n",
       "        vertical-align: middle;\n",
       "    }\n",
       "\n",
       "    .dataframe tbody tr th {\n",
       "        vertical-align: top;\n",
       "    }\n",
       "\n",
       "    .dataframe thead th {\n",
       "        text-align: right;\n",
       "    }\n",
       "</style>\n",
       "<table border=\"1\" class=\"dataframe\">\n",
       "  <thead>\n",
       "    <tr style=\"text-align: right;\">\n",
       "      <th></th>\n",
       "      <th>feature_1</th>\n",
       "      <th>feature_2</th>\n",
       "      <th>feature_3</th>\n",
       "      <th>elapsed_time</th>\n",
       "      <th>recency</th>\n",
       "      <th>use_num</th>\n",
       "      <th>frequency</th>\n",
       "      <th>purchase_amount</th>\n",
       "      <th>authorized_flag</th>\n",
       "      <th>record_num</th>\n",
       "      <th>authorized_N_percentage</th>\n",
       "      <th>category_3</th>\n",
       "    </tr>\n",
       "  </thead>\n",
       "  <tbody>\n",
       "    <tr>\n",
       "      <th>0</th>\n",
       "      <td>5</td>\n",
       "      <td>2</td>\n",
       "      <td>1</td>\n",
       "      <td>245</td>\n",
       "      <td>1</td>\n",
       "      <td>283</td>\n",
       "      <td>94.333333</td>\n",
       "      <td>-0.633261</td>\n",
       "      <td>13</td>\n",
       "      <td>283</td>\n",
       "      <td>0.045936</td>\n",
       "      <td>0</td>\n",
       "    </tr>\n",
       "    <tr>\n",
       "      <th>1</th>\n",
       "      <td>4</td>\n",
       "      <td>1</td>\n",
       "      <td>0</td>\n",
       "      <td>396</td>\n",
       "      <td>31</td>\n",
       "      <td>356</td>\n",
       "      <td>118.666667</td>\n",
       "      <td>-0.602141</td>\n",
       "      <td>11</td>\n",
       "      <td>356</td>\n",
       "      <td>0.030899</td>\n",
       "      <td>72</td>\n",
       "    </tr>\n",
       "    <tr>\n",
       "      <th>2</th>\n",
       "      <td>2</td>\n",
       "      <td>2</td>\n",
       "      <td>0</td>\n",
       "      <td>549</td>\n",
       "      <td>2</td>\n",
       "      <td>44</td>\n",
       "      <td>14.666667</td>\n",
       "      <td>-0.678812</td>\n",
       "      <td>2</td>\n",
       "      <td>44</td>\n",
       "      <td>0.045455</td>\n",
       "      <td>0</td>\n",
       "    </tr>\n",
       "    <tr>\n",
       "      <th>3</th>\n",
       "      <td>4</td>\n",
       "      <td>3</td>\n",
       "      <td>0</td>\n",
       "      <td>153</td>\n",
       "      <td>12</td>\n",
       "      <td>84</td>\n",
       "      <td>28.000000</td>\n",
       "      <td>-0.644592</td>\n",
       "      <td>0</td>\n",
       "      <td>84</td>\n",
       "      <td>0.000000</td>\n",
       "      <td>7</td>\n",
       "    </tr>\n",
       "    <tr>\n",
       "      <th>4</th>\n",
       "      <td>1</td>\n",
       "      <td>3</td>\n",
       "      <td>0</td>\n",
       "      <td>92</td>\n",
       "      <td>2</td>\n",
       "      <td>169</td>\n",
       "      <td>56.333333</td>\n",
       "      <td>-0.405999</td>\n",
       "      <td>5</td>\n",
       "      <td>169</td>\n",
       "      <td>0.029586</td>\n",
       "      <td>8</td>\n",
       "    </tr>\n",
       "  </tbody>\n",
       "</table>\n",
       "</div>"
      ],
      "text/plain": [
       "   feature_1  feature_2  feature_3  elapsed_time  recency  use_num  \\\n",
       "0          5          2          1           245        1      283   \n",
       "1          4          1          0           396       31      356   \n",
       "2          2          2          0           549        2       44   \n",
       "3          4          3          0           153       12       84   \n",
       "4          1          3          0            92        2      169   \n",
       "\n",
       "    frequency  purchase_amount  authorized_flag  record_num  \\\n",
       "0   94.333333        -0.633261               13         283   \n",
       "1  118.666667        -0.602141               11         356   \n",
       "2   14.666667        -0.678812                2          44   \n",
       "3   28.000000        -0.644592                0          84   \n",
       "4   56.333333        -0.405999                5         169   \n",
       "\n",
       "   authorized_N_percentage  category_3  \n",
       "0                 0.045936           0  \n",
       "1                 0.030899          72  \n",
       "2                 0.045455           0  \n",
       "3                 0.000000           7  \n",
       "4                 0.029586           8  "
      ]
     },
     "execution_count": 46,
     "metadata": {},
     "output_type": "execute_result"
    }
   ],
   "source": [
    "train.head()"
   ]
  },
  {
   "cell_type": "code",
   "execution_count": 47,
   "metadata": {},
   "outputs": [],
   "source": [
    "# grid_params = {\n",
    "#     \"learning_rate\": [0.05],\n",
    "#     \"n_estimators\": [3000],\n",
    "#     \"max_depth\": [5],\n",
    "#     \"min_child_weight\": [1],\n",
    "#     \"gamma\": [0.05],\n",
    "#     \"subsample\": [0.8],\n",
    "#     \"colsample_bytree\": [0.3],\n",
    "#     \"objective\": [\"reg:linear\"],\n",
    "#     \"scale_pos_weight\": [1],\n",
    "#     \"seed\": [27]\n",
    "# }\n",
    "\n",
    "# gs = GridSearchCV(xgb.XGBRegressor(), grid_params, cv=3, n_jobs=2, scoring=\"neg_mean_squared_error\")\n",
    "# gs.fit(train[columns], target)"
   ]
  },
  {
   "cell_type": "code",
   "execution_count": 48,
   "metadata": {},
   "outputs": [],
   "source": [
    "# gs.best_params_"
   ]
  },
  {
   "cell_type": "code",
   "execution_count": 49,
   "metadata": {},
   "outputs": [],
   "source": [
    "reg = xgb.XGBRegressor(\n",
    "        learning_rate =0.05,\n",
    "        n_estimators=3000,\n",
    "        max_depth=5,\n",
    "        min_child_weight=1,\n",
    "        gamma=0.05,\n",
    "        subsample=0.8,\n",
    "        colsample_bytree=0.3,\n",
    "        objective= \"reg:linear\",\n",
    "        scale_pos_weight=1,\n",
    "        seed=27\n",
    "    )"
   ]
  },
  {
   "cell_type": "code",
   "execution_count": 61,
   "metadata": {},
   "outputs": [],
   "source": [
    "reg_lgb = lgb.LGBMRegressor(\n",
    "    num_leaves= 50,\n",
    "    min_data_in_leaf= 30, \n",
    "    objective=\"regression\",\n",
    "    max_depth= -1,\n",
    "    learning_rate= 0.0041,\n",
    "    boosting= \"gbdt\",\n",
    "    feature_fraction= 0.9,\n",
    "    bagging_freq= 1,\n",
    "    bagging_fraction= 0.9,\n",
    "    bagging_seed= 11,\n",
    "    metric= \"rmse\",\n",
    "    lambda_l1= 0.1,\n",
    "    verbosity= -1\n",
    ")"
   ]
  },
  {
   "cell_type": "code",
   "execution_count": 62,
   "metadata": {},
   "outputs": [],
   "source": [
    "def cross_validation(model, tr, tg, cv=3):\n",
    "    scores = []\n",
    "    kfold = KFold(n_splits=cv, random_state=1, shuffle=True)\n",
    "    for tr_idx, te_idx in kfold.split(tr.index):\n",
    "        X_train, X_test = tr.iloc[tr_idx], tr.iloc[te_idx]\n",
    "        Y_train, Y_test = tg.iloc[tr_idx], tg.iloc[te_idx]\n",
    "        \n",
    "        model.fit(X_train, Y_train)\n",
    "        predict = model.predict(X_test)\n",
    "        \n",
    "        score = np.sqrt(mean_squared_error(predict, Y_test))\n",
    "        scores.append(score)\n",
    "    \n",
    "    validation_score = np.mean(scores)\n",
    "    return validation_score"
   ]
  },
  {
   "cell_type": "code",
   "execution_count": 63,
   "metadata": {},
   "outputs": [
    {
     "data": {
      "text/plain": [
       "3.8140436337060373"
      ]
     },
     "execution_count": 63,
     "metadata": {},
     "output_type": "execute_result"
    }
   ],
   "source": [
    "cross_validation(reg_lgb, train, target, cv=3)"
   ]
  },
  {
   "cell_type": "code",
   "execution_count": 51,
   "metadata": {
    "scrolled": true
   },
   "outputs": [
    {
     "data": {
      "text/plain": [
       "3.8347255781563216"
      ]
     },
     "execution_count": 51,
     "metadata": {},
     "output_type": "execute_result"
    }
   ],
   "source": [
    "cross_validation(reg, train, target, cv=3)  #現段階の最高は3.833ぐらい"
   ]
  },
  {
   "cell_type": "code",
   "execution_count": 52,
   "metadata": {},
   "outputs": [],
   "source": [
    "reg = xgb.XGBRegressor(\n",
    "        learning_rate =0.05,\n",
    "        n_estimators=3000,\n",
    "        max_depth=5,\n",
    "        min_child_weight=1,\n",
    "        gamma=0.05,\n",
    "        subsample=0.8,\n",
    "        colsample_bytree=0.3,\n",
    "        objective= \"reg:linear\",\n",
    "        scale_pos_weight=1,\n",
    "        seed=27\n",
    "    )"
   ]
  },
  {
   "cell_type": "code",
   "execution_count": 53,
   "metadata": {
    "scrolled": true
   },
   "outputs": [],
   "source": [
    "reg = xgb.XGBRegressor(\n",
    "        learning_rate =0.05,\n",
    "        n_estimators=3000,\n",
    "        max_depth=5,\n",
    "        min_child_weight=1,\n",
    "        gamma=0.05,\n",
    "        subsample=0.8,\n",
    "        colsample_bytree=0.3,\n",
    "        objective= \"reg:linear\",\n",
    "        scale_pos_weight=1,\n",
    "        seed=27\n",
    "    )"
   ]
  },
  {
   "cell_type": "code",
   "execution_count": 64,
   "metadata": {},
   "outputs": [
    {
     "data": {
      "text/plain": [
       "LGBMRegressor(bagging_fraction=0.9, bagging_freq=1, bagging_seed=11,\n",
       "       boosting='gbdt', boosting_type='gbdt', class_weight=None,\n",
       "       colsample_bytree=1.0, feature_fraction=0.9, importance_type='split',\n",
       "       lambda_l1=0.1, learning_rate=0.0041, max_depth=-1, metric='rmse',\n",
       "       min_child_samples=20, min_child_weight=0.001, min_data_in_leaf=30,\n",
       "       min_split_gain=0.0, n_estimators=100, n_jobs=-1, num_leaves=50,\n",
       "       objective='regression', random_state=None, reg_alpha=0.0,\n",
       "       reg_lambda=0.0, silent=True, subsample=1.0,\n",
       "       subsample_for_bin=200000, subsample_freq=0, verbosity=-1)"
      ]
     },
     "execution_count": 64,
     "metadata": {},
     "output_type": "execute_result"
    }
   ],
   "source": [
    "reg_lgb.fit(train, target)"
   ]
  },
  {
   "cell_type": "code",
   "execution_count": 54,
   "metadata": {},
   "outputs": [
    {
     "data": {
      "text/plain": [
       "XGBRegressor(base_score=0.5, booster='gbtree', colsample_bylevel=1,\n",
       "       colsample_bytree=0.3, gamma=0.05, learning_rate=0.05,\n",
       "       max_delta_step=0, max_depth=5, min_child_weight=1, missing=None,\n",
       "       n_estimators=3000, n_jobs=1, nthread=None, objective='reg:linear',\n",
       "       random_state=0, reg_alpha=0, reg_lambda=1, scale_pos_weight=1,\n",
       "       seed=27, silent=True, subsample=0.8)"
      ]
     },
     "execution_count": 54,
     "metadata": {},
     "output_type": "execute_result"
    }
   ],
   "source": [
    "reg.fit(train, target)"
   ]
  },
  {
   "cell_type": "code",
   "execution_count": 55,
   "metadata": {},
   "outputs": [
    {
     "data": {
      "text/plain": [
       "<matplotlib.axes._subplots.AxesSubplot at 0x111cd7b38>"
      ]
     },
     "execution_count": 55,
     "metadata": {},
     "output_type": "execute_result"
    },
    {
     "data": {
      "image/png": "[encoded data removed]",
      "text/plain": [
       "<Figure size 432x288 with 1 Axes>"
      ]
     },
     "metadata": {},
     "output_type": "display_data"
    }
   ],
   "source": [
    "xgb.plot_importance(reg)"
   ]
  },
  {
   "cell_type": "code",
   "execution_count": 65,
   "metadata": {},
   "outputs": [],
   "source": [
    "predict = reg_lgb.predict(test)\n",
    "\n",
    "submission = pd.DataFrame({\"card_id\":raw_test.card_id, \"target\":predict})\n",
    "submission.to_csv(\"./output/submission_20181201.csv\", index=False)\n",
    "# score: 3.866"
   ]
  }
 ],
 "metadata": {
  "kernelspec": {
   "display_name": "Python 3",
   "language": "python",
   "name": "python3"
  },
  "language_info": {
   "codemirror_mode": {
    "name": "ipython",
    "version": 3
   },
   "file_extension": ".py",
   "mimetype": "text/x-python",
   "name": "python",
   "nbconvert_exporter": "python",
   "pygments_lexer": "ipython3",
   "version": "3.6.6"
  }
 },
 "nbformat": 4,
 "nbformat_minor": 2
}
