{
 "cells": [
  {
   "cell_type": "code",
   "execution_count": 166,
   "metadata": {},
   "outputs": [],
   "source": [
    "import numpy as np\n",
    "import pandas as pd\n",
    "\n",
    "%matplotlib inline\n",
    "import matplotlib.pyplot as plt"
   ]
  },
  {
   "cell_type": "code",
   "execution_count": 167,
   "metadata": {},
   "outputs": [],
   "source": [
    "full_df = pd.read_csv(\"../output/submission_model20181216.csv\")"
   ]
  },
  {
   "cell_type": "code",
   "execution_count": 168,
   "metadata": {},
   "outputs": [],
   "source": [
    "positive_prob_df = pd.read_csv(\"../output/positive_clf_model20190101.csv\")"
   ]
  },
  {
   "cell_type": "code",
   "execution_count": 169,
   "metadata": {},
   "outputs": [],
   "source": [
    "outliers_prob_df = pd.read_csv(\"../output/outliers_clf_model20190101.csv\")"
   ]
  },
  {
   "cell_type": "code",
   "execution_count": 170,
   "metadata": {},
   "outputs": [],
   "source": [
    "no_outliers_model_df = pd.read_csv(\"../output/submission_no_outliers_model20181231.csv\")"
   ]
  },
  {
   "cell_type": "code",
   "execution_count": 171,
   "metadata": {},
   "outputs": [],
   "source": [
    "df = pd.merge(full_df, positive_prob_df, on=\"card_id\", how=\"left\")\n",
    "df = pd.merge(df, outliers_prob_df, on=\"card_id\", how=\"left\")\n",
    "df = pd.merge(df, no_outliers_model_df, on=\"card_id\", how=\"left\")"
   ]
  },
  {
   "cell_type": "code",
   "execution_count": 172,
   "metadata": {
    "scrolled": true
   },
   "outputs": [],
   "source": [
    "df.columns = [\"card_id\", \"full_model_target\", \"positive_prob\", \"outliers_prob\", \"no_outliers_model_target\"]"
   ]
  },
  {
   "cell_type": "code",
   "execution_count": 173,
   "metadata": {},
   "outputs": [],
   "source": [
    "df[\"target\"] = np.zeros(df.shape[0])"
   ]
  },
  {
   "cell_type": "code",
   "execution_count": 174,
   "metadata": {},
   "outputs": [
    {
     "data": {
      "text/html": [
       "<div>\n",
       "<style scoped>\n",
       "    .dataframe tbody tr th:only-of-type {\n",
       "        vertical-align: middle;\n",
       "    }\n",
       "\n",
       "    .dataframe tbody tr th {\n",
       "        vertical-align: top;\n",
       "    }\n",
       "\n",
       "    .dataframe thead th {\n",
       "        text-align: right;\n",
       "    }\n",
       "</style>\n",
       "<table border=\"1\" class=\"dataframe\">\n",
       "  <thead>\n",
       "    <tr style=\"text-align: right;\">\n",
       "      <th></th>\n",
       "      <th>card_id</th>\n",
       "      <th>full_model_target</th>\n",
       "      <th>positive_prob</th>\n",
       "      <th>outliers_prob</th>\n",
       "      <th>no_outliers_model_target</th>\n",
       "      <th>target</th>\n",
       "    </tr>\n",
       "  </thead>\n",
       "  <tbody>\n",
       "    <tr>\n",
       "      <th>0</th>\n",
       "      <td>C_ID_0ab67a22ab</td>\n",
       "      <td>-2.041275</td>\n",
       "      <td>0.519427</td>\n",
       "      <td>0.012885</td>\n",
       "      <td>-0.148775</td>\n",
       "      <td>0.0</td>\n",
       "    </tr>\n",
       "    <tr>\n",
       "      <th>1</th>\n",
       "      <td>C_ID_130fd0cbdd</td>\n",
       "      <td>-0.305701</td>\n",
       "      <td>0.437548</td>\n",
       "      <td>0.001781</td>\n",
       "      <td>-0.306257</td>\n",
       "      <td>0.0</td>\n",
       "    </tr>\n",
       "    <tr>\n",
       "      <th>2</th>\n",
       "      <td>C_ID_b709037bc5</td>\n",
       "      <td>-0.974894</td>\n",
       "      <td>0.546019</td>\n",
       "      <td>0.003938</td>\n",
       "      <td>0.175380</td>\n",
       "      <td>0.0</td>\n",
       "    </tr>\n",
       "    <tr>\n",
       "      <th>3</th>\n",
       "      <td>C_ID_d27d835a9f</td>\n",
       "      <td>-0.090633</td>\n",
       "      <td>0.480662</td>\n",
       "      <td>0.000258</td>\n",
       "      <td>-0.040708</td>\n",
       "      <td>0.0</td>\n",
       "    </tr>\n",
       "    <tr>\n",
       "      <th>4</th>\n",
       "      <td>C_ID_2b5e3df5c2</td>\n",
       "      <td>-1.465622</td>\n",
       "      <td>0.353727</td>\n",
       "      <td>0.003344</td>\n",
       "      <td>-0.533851</td>\n",
       "      <td>0.0</td>\n",
       "    </tr>\n",
       "  </tbody>\n",
       "</table>\n",
       "</div>"
      ],
      "text/plain": [
       "           card_id  full_model_target  positive_prob  outliers_prob  \\\n",
       "0  C_ID_0ab67a22ab          -2.041275       0.519427       0.012885   \n",
       "1  C_ID_130fd0cbdd          -0.305701       0.437548       0.001781   \n",
       "2  C_ID_b709037bc5          -0.974894       0.546019       0.003938   \n",
       "3  C_ID_d27d835a9f          -0.090633       0.480662       0.000258   \n",
       "4  C_ID_2b5e3df5c2          -1.465622       0.353727       0.003344   \n",
       "\n",
       "   no_outliers_model_target  target  \n",
       "0                 -0.148775     0.0  \n",
       "1                 -0.306257     0.0  \n",
       "2                  0.175380     0.0  \n",
       "3                 -0.040708     0.0  \n",
       "4                 -0.533851     0.0  "
      ]
     },
     "execution_count": 174,
     "metadata": {},
     "output_type": "execute_result"
    }
   ],
   "source": [
    "df.head()"
   ]
  },
  {
   "cell_type": "code",
   "execution_count": 175,
   "metadata": {
    "scrolled": false
   },
   "outputs": [
    {
     "name": "stderr",
     "output_type": "stream",
     "text": [
      "/Users/naoki/.pyenv/versions/3.6.6/lib/python3.6/site-packages/pandas/core/indexing.py:189: SettingWithCopyWarning: \n",
      "A value is trying to be set on a copy of a slice from a DataFrame\n",
      "\n",
      "See the caveats in the documentation: http://pandas.pydata.org/pandas-docs/stable/indexing.html#indexing-view-versus-copy\n",
      "  self._setitem_with_indexer(indexer, value)\n"
     ]
    }
   ],
   "source": [
    "out_idx = df[df.outliers_prob > 0.55].index\n",
    "df[\"target\"].iloc[out_idx]= -33.21928095"
   ]
  },
  {
   "cell_type": "code",
   "execution_count": 176,
   "metadata": {
    "scrolled": true
   },
   "outputs": [
    {
     "name": "stderr",
     "output_type": "stream",
     "text": [
      "/Users/naoki/.pyenv/versions/3.6.6/lib/python3.6/site-packages/pandas/core/indexing.py:189: SettingWithCopyWarning: \n",
      "A value is trying to be set on a copy of a slice from a DataFrame\n",
      "\n",
      "See the caveats in the documentation: http://pandas.pydata.org/pandas-docs/stable/indexing.html#indexing-view-versus-copy\n",
      "  self._setitem_with_indexer(indexer, value)\n"
     ]
    }
   ],
   "source": [
    "positive_idx = df[df.positive_prob > 0.7].index\n",
    "df[\"target\"].iloc[positive_idx] = np.max(df[[\"full_model_target\", \"no_outliers_model_target\"]].iloc[positive_idx], axis=1)"
   ]
  },
  {
   "cell_type": "code",
   "execution_count": 177,
   "metadata": {
    "scrolled": true
   },
   "outputs": [
    {
     "name": "stderr",
     "output_type": "stream",
     "text": [
      "/Users/naoki/.pyenv/versions/3.6.6/lib/python3.6/site-packages/pandas/core/indexing.py:189: SettingWithCopyWarning: \n",
      "A value is trying to be set on a copy of a slice from a DataFrame\n",
      "\n",
      "See the caveats in the documentation: http://pandas.pydata.org/pandas-docs/stable/indexing.html#indexing-view-versus-copy\n",
      "  self._setitem_with_indexer(indexer, value)\n"
     ]
    }
   ],
   "source": [
    "else_idx = df[df.target == 0].index\n",
    "\n",
    "mix_rate = 1.0\n",
    "df[\"target\"].iloc[else_idx] = df[\"full_model_target\"].iloc[else_idx] * mix_rate + df[\"no_outliers_model_target\"].iloc[else_idx] * (1-mix_rate)"
   ]
  },
  {
   "cell_type": "code",
   "execution_count": 178,
   "metadata": {
    "scrolled": true
   },
   "outputs": [],
   "source": [
    "submission = df[[\"card_id\", \"target\"]]\n",
    "submission.to_csv(\"../output/submission_mix_model_20190101.csv\", index=False)"
   ]
  }
 ],
 "metadata": {
  "kernelspec": {
   "display_name": "Python 3",
   "language": "python",
   "name": "python3"
  },
  "language_info": {
   "codemirror_mode": {
    "name": "ipython",
    "version": 3
   },
   "file_extension": ".py",
   "mimetype": "text/x-python",
   "name": "python",
   "nbconvert_exporter": "python",
   "pygments_lexer": "ipython3",
   "version": "3.6.6"
  }
 },
 "nbformat": 4,
 "nbformat_minor": 2
}
