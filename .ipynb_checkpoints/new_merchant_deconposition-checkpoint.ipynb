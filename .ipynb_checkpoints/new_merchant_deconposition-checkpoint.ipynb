{
 "cells": [
  {
   "cell_type": "code",
   "execution_count": 12,
   "metadata": {},
   "outputs": [],
   "source": [
    "import pandas as pd\n",
    "import numpy as np\n",
    "\n",
    "from scipy.sparse import csr_matrix\n",
    "from pandas.api.types import CategoricalDtype\n",
    "\n",
    "from sklearn.decomposition import NMF\n",
    "\n",
    "from tqdm import tqdm\n",
    "\n",
    "import warnings\n",
    "warnings.filterwarnings('ignore')"
   ]
  },
  {
   "cell_type": "code",
   "execution_count": 13,
   "metadata": {},
   "outputs": [],
   "source": [
    "N_COMP = 20"
   ]
  },
  {
   "cell_type": "code",
   "execution_count": 14,
   "metadata": {},
   "outputs": [],
   "source": [
    "raw_train = pd.read_csv(\"./input/train.csv\", parse_dates=[\"first_active_month\"])\n",
    "h_trs = pd.read_csv(\"./input/historical_transactions.csv\", parse_dates=[\"purchase_date\"])\n",
    "n_trs = pd.read_csv(\"./input/new_merchant_transactions.csv\")"
   ]
  },
  {
   "cell_type": "code",
   "execution_count": 15,
   "metadata": {},
   "outputs": [],
   "source": [
    "card_merchant = n_trs[[\"card_id\",\"merchant_id\"]].dropna().groupby([\"card_id\", \"merchant_id\"]).size().reset_index()\n",
    "card_merchant.columns = [\"card_id\", \"merchant_id\", \"count_\"]"
   ]
  },
  {
   "cell_type": "code",
   "execution_count": 16,
   "metadata": {},
   "outputs": [],
   "source": [
    "person_c = CategoricalDtype(sorted(card_merchant.card_id.unique()), ordered=True)\n",
    "thing_c = CategoricalDtype(sorted(card_merchant.merchant_id.unique()), ordered=True)\n",
    "\n",
    "row = card_merchant.card_id.astype(person_c).cat.codes\n",
    "col = card_merchant.merchant_id.astype(thing_c).cat.codes\n",
    "sparse_matrix = csr_matrix((card_merchant[\"count_\"], (row, col)), \\\n",
    "                           shape=(person_c.categories.size, thing_c.categories.size))"
   ]
  },
  {
   "cell_type": "code",
   "execution_count": 17,
   "metadata": {},
   "outputs": [],
   "source": [
    "model = NMF(n_components=N_COMP, init='random', random_state=0)\n",
    "embedded = model.fit_transform(sparse_matrix)\n",
    "\n",
    "df = pd.DataFrame(embedded, columns=[\"new_NMF_comp_{}\".format(i) for i in range(1, N_COMP+1)])\n",
    "df[\"card_id\"] = person_c.categories.values\n",
    "df.to_csv(\"./input/new_merchants_nmf.csv\", index=False)"
   ]
  }
 ],
 "metadata": {
  "kernelspec": {
   "display_name": "Python 3",
   "language": "python",
   "name": "python3"
  },
  "language_info": {
   "codemirror_mode": {
    "name": "ipython",
    "version": 3
   },
   "file_extension": ".py",
   "mimetype": "text/x-python",
   "name": "python",
   "nbconvert_exporter": "python",
   "pygments_lexer": "ipython3",
   "version": "3.6.6"
  }
 },
 "nbformat": 4,
 "nbformat_minor": 2
}
