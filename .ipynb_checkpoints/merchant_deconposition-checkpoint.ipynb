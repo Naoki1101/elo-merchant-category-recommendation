{
 "cells": [
  {
   "cell_type": "code",
   "execution_count": 1,
   "metadata": {},
   "outputs": [
    {
     "name": "stderr",
     "output_type": "stream",
     "text": [
      "/Users/naoki/.pyenv/versions/3.6.6/lib/python3.6/importlib/_bootstrap.py:219: RuntimeWarning: numpy.dtype size changed, may indicate binary incompatibility. Expected 96, got 88\n",
      "  return f(*args, **kwds)\n",
      "/Users/naoki/.pyenv/versions/3.6.6/lib/python3.6/importlib/_bootstrap.py:219: RuntimeWarning: numpy.dtype size changed, may indicate binary incompatibility. Expected 96, got 88\n",
      "  return f(*args, **kwds)\n"
     ]
    }
   ],
   "source": [
    "import pandas as pd\n",
    "import numpy as np\n",
    "\n",
    "from scipy.sparse import csr_matrix\n",
    "from pandas.api.types import CategoricalDtype\n",
    "\n",
    "from sklearn.decomposition import NMF\n",
    "\n",
    "from tqdm import tqdm\n",
    "\n",
    "import warnings\n",
    "warnings.filterwarnings('ignore')"
   ]
  },
  {
   "cell_type": "code",
   "execution_count": 2,
   "metadata": {},
   "outputs": [],
   "source": [
    "N_COMP = 20 #20が最高順位"
   ]
  },
  {
   "cell_type": "code",
   "execution_count": 3,
   "metadata": {
    "scrolled": true
   },
   "outputs": [],
   "source": [
    "raw_train = pd.read_csv(\"./input/train.csv\", parse_dates=[\"first_active_month\"])\n",
    "h_trs = pd.read_csv(\"./input/historical_transactions.csv\", parse_dates=[\"purchase_date\"])\n",
    "n_trs = pd.read_csv(\"./input/new_merchant_transactions.csv\")"
   ]
  },
  {
   "cell_type": "code",
   "execution_count": 4,
   "metadata": {},
   "outputs": [],
   "source": [
    "card_merchant = h_trs[[\"card_id\",\"merchant_id\"]].dropna().groupby([\"card_id\", \"merchant_id\"]).size().reset_index()\n",
    "card_merchant.columns = [\"card_id\", \"merchant_id\", \"count_\"]"
   ]
  },
  {
   "cell_type": "code",
   "execution_count": 5,
   "metadata": {},
   "outputs": [],
   "source": [
    "person_c = CategoricalDtype(sorted(card_merchant.card_id.unique()), ordered=True)\n",
    "thing_c = CategoricalDtype(sorted(card_merchant.merchant_id.unique()), ordered=True)\n",
    "\n",
    "row = card_merchant.card_id.astype(person_c).cat.codes\n",
    "col = card_merchant.merchant_id.astype(thing_c).cat.codes\n",
    "sparse_matrix = csr_matrix((card_merchant[\"count_\"], (row, col)), \\\n",
    "                           shape=(person_c.categories.size, thing_c.categories.size))"
   ]
  },
  {
   "cell_type": "markdown",
   "metadata": {},
   "source": [
    "# NMF"
   ]
  },
  {
   "cell_type": "code",
   "execution_count": 6,
   "metadata": {},
   "outputs": [],
   "source": [
    "model = NMF(n_components=N_COMP, init='random', random_state=0) \n",
    "embedded = model.fit_transform(sparse_matrix)\n",
    "\n",
    "df = pd.DataFrame(embedded, columns=[\"NMF_comp_{}\".format(i) for i in range(1,N_COMP+1)])\n",
    "df[\"card_id\"] = person_c.categories.values\n",
    "df.to_csv(\"./input/merchants_nmf.csv\", index=False)"
   ]
  },
  {
   "cell_type": "markdown",
   "metadata": {
    "scrolled": true
   },
   "source": [
    "# SVD"
   ]
  },
  {
   "cell_type": "code",
   "execution_count": 9,
   "metadata": {},
   "outputs": [],
   "source": [
    "from sklearn.decomposition import TruncatedSVD\n",
    "\n",
    "svd = TruncatedSVD(n_components=30, random_state=0)\n",
    "svd_embedded = svd.fit_transform(sparse_matrix)\n",
    "\n",
    "df = pd.DataFrame(svd_embedded, columns=[\"SVD_comp_{}\".format(i) for i in range(1,31)])\n",
    "df[\"card_id\"] = person_c.categories.values\n",
    "df.to_csv(\"./input/merchants_svd.csv\", index=False)"
   ]
  },
  {
   "cell_type": "markdown",
   "metadata": {},
   "source": [
    "# LDA"
   ]
  },
  {
   "cell_type": "code",
   "execution_count": 5,
   "metadata": {
    "scrolled": true
   },
   "outputs": [
    {
     "name": "stderr",
     "output_type": "stream",
     "text": [
      "INFO:lda:n_documents: 325540\n",
      "INFO:lda:vocab_size: 326311\n",
      "INFO:lda:n_words: 28973880\n",
      "INFO:lda:n_topics: 30\n",
      "INFO:lda:n_iter: 300\n",
      "INFO:lda:<0> log likelihood: -407613774\n",
      "INFO:lda:<10> log likelihood: -256319316\n",
      "INFO:lda:<20> log likelihood: -248469818\n",
      "INFO:lda:<30> log likelihood: -247891683\n",
      "INFO:lda:<40> log likelihood: -247679727\n",
      "INFO:lda:<50> log likelihood: -247606067\n",
      "INFO:lda:<60> log likelihood: -247512637\n",
      "INFO:lda:<70> log likelihood: -247497785\n",
      "INFO:lda:<80> log likelihood: -247457880\n",
      "INFO:lda:<90> log likelihood: -247407190\n",
      "INFO:lda:<100> log likelihood: -247368873\n",
      "INFO:lda:<110> log likelihood: -247369144\n",
      "INFO:lda:<120> log likelihood: -247349735\n",
      "INFO:lda:<130> log likelihood: -247320236\n",
      "INFO:lda:<140> log likelihood: -247321928\n",
      "INFO:lda:<150> log likelihood: -247318480\n",
      "INFO:lda:<160> log likelihood: -247321153\n",
      "INFO:lda:<170> log likelihood: -247317246\n",
      "INFO:lda:<180> log likelihood: -247318523\n",
      "INFO:lda:<190> log likelihood: -247313524\n",
      "INFO:lda:<200> log likelihood: -247184632\n",
      "INFO:lda:<210> log likelihood: -247180270\n",
      "INFO:lda:<220> log likelihood: -247165676\n",
      "INFO:lda:<230> log likelihood: -247161633\n",
      "INFO:lda:<240> log likelihood: -247169806\n",
      "INFO:lda:<250> log likelihood: -247169069\n",
      "INFO:lda:<260> log likelihood: -247161914\n",
      "INFO:lda:<270> log likelihood: -247164462\n",
      "INFO:lda:<280> log likelihood: -247168116\n",
      "INFO:lda:<290> log likelihood: -247166484\n",
      "INFO:lda:<299> log likelihood: -247164540\n"
     ]
    }
   ],
   "source": [
    "import lda\n",
    "\n",
    "model2 = lda.LDA(n_topics=30, n_iter=300, random_state=1, alpha=0.5, eta=0.5)\n",
    "lda_embedded = model2.fit_transform(sparse_matrix)\n",
    "\n",
    "df = pd.DataFrame(lda_embedded, columns=[\"LDA_comp_{}\".format(i) for i in range(1,31)])\n",
    "df[\"card_id\"] = person_c.categories.values\n",
    "df.to_csv(\"./input/merchants_lda.csv\", index=False)"
   ]
  }
 ],
 "metadata": {
  "kernelspec": {
   "display_name": "Python 3",
   "language": "python",
   "name": "python3"
  },
  "language_info": {
   "codemirror_mode": {
    "name": "ipython",
    "version": 3
   },
   "file_extension": ".py",
   "mimetype": "text/x-python",
   "name": "python",
   "nbconvert_exporter": "python",
   "pygments_lexer": "ipython3",
   "version": "3.6.6"
  }
 },
 "nbformat": 4,
 "nbformat_minor": 2
}
