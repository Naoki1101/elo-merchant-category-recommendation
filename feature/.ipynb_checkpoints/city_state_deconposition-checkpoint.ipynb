{
 "cells": [
  {
   "cell_type": "code",
   "execution_count": 23,
   "metadata": {},
   "outputs": [],
   "source": [
    "import pandas as pd\n",
    "import numpy as np\n",
    "\n",
    "from scipy.sparse import csr_matrix\n",
    "from pandas.api.types import CategoricalDtype\n",
    "\n",
    "from sklearn.decomposition import NMF\n",
    "\n",
    "from tqdm import tqdm\n",
    "\n",
    "import warnings\n",
    "warnings.filterwarnings('ignore')"
   ]
  },
  {
   "cell_type": "code",
   "execution_count": 24,
   "metadata": {},
   "outputs": [],
   "source": [
    "N_COMP = 50"
   ]
  },
  {
   "cell_type": "code",
   "execution_count": 25,
   "metadata": {
    "scrolled": true
   },
   "outputs": [],
   "source": [
    "raw_train = pd.read_csv(\"../input/train.csv\", parse_dates=[\"first_active_month\"])\n",
    "h_trs = pd.read_csv(\"../input/historical_transactions.csv\", usecols=[\"card_id\", \"city_id\", \"state_id\"])"
   ]
  },
  {
   "cell_type": "markdown",
   "metadata": {},
   "source": [
    "# city"
   ]
  },
  {
   "cell_type": "code",
   "execution_count": 26,
   "metadata": {},
   "outputs": [],
   "source": [
    "card_city = h_trs[[\"card_id\",\"city_id\"]].groupby([\"card_id\", \"city_id\"]).size().reset_index()\n",
    "card_city.columns = [\"card_id\", \"city_id\", \"count_\"]"
   ]
  },
  {
   "cell_type": "code",
   "execution_count": 27,
   "metadata": {
    "scrolled": true
   },
   "outputs": [],
   "source": [
    "person_c = CategoricalDtype(sorted(card_city.card_id.unique()), ordered=True)\n",
    "thing_c = CategoricalDtype(sorted(card_city.city_id.unique()), ordered=True)\n",
    "\n",
    "row = card_city.card_id.astype(person_c).cat.codes\n",
    "col = card_city.city_id.astype(thing_c).cat.codes\n",
    "sparse_matrix = csr_matrix((card_city[\"count_\"], (row, col)), \\\n",
    "                           shape=(person_c.categories.size, thing_c.categories.size))"
   ]
  },
  {
   "cell_type": "code",
   "execution_count": 28,
   "metadata": {},
   "outputs": [],
   "source": [
    "#NMF\n",
    "model = NMF(n_components=N_COMP, init='random', random_state=0) \n",
    "embedded = model.fit_transform(sparse_matrix)\n",
    "\n",
    "df = pd.DataFrame(embedded, columns=[\"city_NMF_comp_{}\".format(i) for i in range(1,N_COMP+1)])\n",
    "df[\"card_id\"] = person_c.categories.values\n",
    "df.to_csv(\"../input/city_nmf.csv\", index=False)"
   ]
  },
  {
   "cell_type": "markdown",
   "metadata": {},
   "source": [
    "# state"
   ]
  },
  {
   "cell_type": "code",
   "execution_count": 32,
   "metadata": {},
   "outputs": [],
   "source": [
    "N_COMP = 10"
   ]
  },
  {
   "cell_type": "code",
   "execution_count": 33,
   "metadata": {},
   "outputs": [],
   "source": [
    "card_state = h_trs[[\"card_id\",\"state_id\"]].groupby([\"card_id\", \"state_id\"]).size().reset_index()\n",
    "card_state.columns = [\"card_id\", \"state_id\", \"count_\"]"
   ]
  },
  {
   "cell_type": "code",
   "execution_count": 34,
   "metadata": {},
   "outputs": [],
   "source": [
    "person_c = CategoricalDtype(sorted(card_state.card_id.unique()), ordered=True)\n",
    "thing_c = CategoricalDtype(sorted(card_state.state_id.unique()), ordered=True)\n",
    "\n",
    "row = card_state.card_id.astype(person_c).cat.codes\n",
    "col = card_state.state_id.astype(thing_c).cat.codes\n",
    "sparse_matrix = csr_matrix((card_state[\"count_\"], (row, col)), \\\n",
    "                           shape=(person_c.categories.size, thing_c.categories.size))"
   ]
  },
  {
   "cell_type": "code",
   "execution_count": 35,
   "metadata": {},
   "outputs": [],
   "source": [
    "#NMF\n",
    "model = NMF(n_components=N_COMP, init='random', random_state=0) \n",
    "embedded = model.fit_transform(sparse_matrix)\n",
    "\n",
    "df = pd.DataFrame(embedded, columns=[\"state_NMF_comp_{}\".format(i) for i in range(1,N_COMP+1)])\n",
    "df[\"card_id\"] = person_c.categories.values\n",
    "df.to_csv(\"../input/state_nmf.csv\", index=False)"
   ]
  }
 ],
 "metadata": {
  "kernelspec": {
   "display_name": "Python 3",
   "language": "python",
   "name": "python3"
  },
  "language_info": {
   "codemirror_mode": {
    "name": "ipython",
    "version": 3
   },
   "file_extension": ".py",
   "mimetype": "text/x-python",
   "name": "python",
   "nbconvert_exporter": "python",
   "pygments_lexer": "ipython3",
   "version": "3.5.0"
  }
 },
 "nbformat": 4,
 "nbformat_minor": 2
}
