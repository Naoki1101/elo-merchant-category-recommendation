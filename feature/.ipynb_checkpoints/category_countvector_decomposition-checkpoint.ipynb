{
 "cells": [
  {
   "cell_type": "code",
   "execution_count": 1,
   "metadata": {},
   "outputs": [
    {
     "name": "stderr",
     "output_type": "stream",
     "text": [
      "/Users/naoki/.pyenv/versions/3.6.6/lib/python3.6/importlib/_bootstrap.py:219: RuntimeWarning: numpy.dtype size changed, may indicate binary incompatibility. Expected 96, got 88\n",
      "  return f(*args, **kwds)\n",
      "/Users/naoki/.pyenv/versions/3.6.6/lib/python3.6/importlib/_bootstrap.py:219: RuntimeWarning: numpy.dtype size changed, may indicate binary incompatibility. Expected 96, got 88\n",
      "  return f(*args, **kwds)\n"
     ]
    }
   ],
   "source": [
    "import pandas as pd\n",
    "import numpy as np\n",
    "\n",
    "from scipy.sparse import csr_matrix\n",
    "from pandas.api.types import CategoricalDtype\n",
    "\n",
    "from sklearn.decomposition import NMF\n",
    "\n",
    "from tqdm import tqdm\n",
    "\n",
    "import warnings\n",
    "warnings.filterwarnings('ignore')"
   ]
  },
  {
   "cell_type": "code",
   "execution_count": 2,
   "metadata": {},
   "outputs": [],
   "source": [
    "N_COMP = 10"
   ]
  },
  {
   "cell_type": "code",
   "execution_count": 3,
   "metadata": {},
   "outputs": [],
   "source": [
    "use_cols =[\n",
    "    \"authorized_flag\",\n",
    "    \"card_id\",\n",
    "    \"category_1\",\n",
    "    \"category_3\",\n",
    "    \"merchant_category_id\",\n",
    "    \"category_2\",\n",
    "    \"state_id\",\n",
    "    \"city_id\"\n",
    "]"
   ]
  },
  {
   "cell_type": "code",
   "execution_count": 4,
   "metadata": {},
   "outputs": [],
   "source": [
    "h_trs = pd.read_csv(\"../input/historical_transactions.csv\", usecols=use_cols)\n",
    "n_trs = pd.read_csv(\"../input/new_merchant_transactions.csv\", usecols=use_cols)\n",
    "\n",
    "trs = pd.concat([h_trs, n_trs], axis=0).reset_index(drop=True)"
   ]
  },
  {
   "cell_type": "code",
   "execution_count": 5,
   "metadata": {},
   "outputs": [],
   "source": [
    "for col in use_cols:\n",
    "    trs[col] = trs[col].fillna(\"Null\")"
   ]
  },
  {
   "cell_type": "code",
   "execution_count": 6,
   "metadata": {
    "scrolled": true
   },
   "outputs": [],
   "source": [
    "trs[\"category_str\"] = trs.authorized_flag + \"_\"  \\\n",
    "    + trs.city_id.apply(lambda x:str(x)) + \"_\" \\\n",
    "    + trs.category_1 + \"_\" \\\n",
    "    + trs.category_3 + \"_\" \\\n",
    "    + trs.merchant_category_id.apply(lambda x:str(x)) + \"_\" \\\n",
    "    + trs.category_2.apply(lambda x:str(x)) + \"_\" \\\n",
    "    + trs.state_id.apply(lambda x:str(x))"
   ]
  },
  {
   "cell_type": "code",
   "execution_count": 7,
   "metadata": {},
   "outputs": [],
   "source": [
    "trs[\"one\"] = np.ones(trs.shape[0])"
   ]
  },
  {
   "cell_type": "code",
   "execution_count": 8,
   "metadata": {},
   "outputs": [
    {
     "data": {
      "text/html": [
       "<div>\n",
       "<style scoped>\n",
       "    .dataframe tbody tr th:only-of-type {\n",
       "        vertical-align: middle;\n",
       "    }\n",
       "\n",
       "    .dataframe tbody tr th {\n",
       "        vertical-align: top;\n",
       "    }\n",
       "\n",
       "    .dataframe thead th {\n",
       "        text-align: right;\n",
       "    }\n",
       "</style>\n",
       "<table border=\"1\" class=\"dataframe\">\n",
       "  <thead>\n",
       "    <tr style=\"text-align: right;\">\n",
       "      <th></th>\n",
       "      <th>authorized_flag</th>\n",
       "      <th>card_id</th>\n",
       "      <th>city_id</th>\n",
       "      <th>category_1</th>\n",
       "      <th>category_3</th>\n",
       "      <th>merchant_category_id</th>\n",
       "      <th>category_2</th>\n",
       "      <th>state_id</th>\n",
       "      <th>category_str</th>\n",
       "      <th>one</th>\n",
       "    </tr>\n",
       "  </thead>\n",
       "  <tbody>\n",
       "    <tr>\n",
       "      <th>0</th>\n",
       "      <td>Y</td>\n",
       "      <td>C_ID_4e6213e9bc</td>\n",
       "      <td>88</td>\n",
       "      <td>N</td>\n",
       "      <td>A</td>\n",
       "      <td>80</td>\n",
       "      <td>1</td>\n",
       "      <td>16</td>\n",
       "      <td>Y_88_N_A_80_1.0_16</td>\n",
       "      <td>1.0</td>\n",
       "    </tr>\n",
       "    <tr>\n",
       "      <th>1</th>\n",
       "      <td>Y</td>\n",
       "      <td>C_ID_4e6213e9bc</td>\n",
       "      <td>88</td>\n",
       "      <td>N</td>\n",
       "      <td>A</td>\n",
       "      <td>367</td>\n",
       "      <td>1</td>\n",
       "      <td>16</td>\n",
       "      <td>Y_88_N_A_367_1.0_16</td>\n",
       "      <td>1.0</td>\n",
       "    </tr>\n",
       "    <tr>\n",
       "      <th>2</th>\n",
       "      <td>Y</td>\n",
       "      <td>C_ID_4e6213e9bc</td>\n",
       "      <td>88</td>\n",
       "      <td>N</td>\n",
       "      <td>A</td>\n",
       "      <td>80</td>\n",
       "      <td>1</td>\n",
       "      <td>16</td>\n",
       "      <td>Y_88_N_A_80_1.0_16</td>\n",
       "      <td>1.0</td>\n",
       "    </tr>\n",
       "    <tr>\n",
       "      <th>3</th>\n",
       "      <td>Y</td>\n",
       "      <td>C_ID_4e6213e9bc</td>\n",
       "      <td>88</td>\n",
       "      <td>N</td>\n",
       "      <td>A</td>\n",
       "      <td>560</td>\n",
       "      <td>1</td>\n",
       "      <td>16</td>\n",
       "      <td>Y_88_N_A_560_1.0_16</td>\n",
       "      <td>1.0</td>\n",
       "    </tr>\n",
       "    <tr>\n",
       "      <th>4</th>\n",
       "      <td>Y</td>\n",
       "      <td>C_ID_4e6213e9bc</td>\n",
       "      <td>88</td>\n",
       "      <td>N</td>\n",
       "      <td>A</td>\n",
       "      <td>80</td>\n",
       "      <td>1</td>\n",
       "      <td>16</td>\n",
       "      <td>Y_88_N_A_80_1.0_16</td>\n",
       "      <td>1.0</td>\n",
       "    </tr>\n",
       "  </tbody>\n",
       "</table>\n",
       "</div>"
      ],
      "text/plain": [
       "  authorized_flag          card_id  city_id category_1 category_3  \\\n",
       "0               Y  C_ID_4e6213e9bc       88          N          A   \n",
       "1               Y  C_ID_4e6213e9bc       88          N          A   \n",
       "2               Y  C_ID_4e6213e9bc       88          N          A   \n",
       "3               Y  C_ID_4e6213e9bc       88          N          A   \n",
       "4               Y  C_ID_4e6213e9bc       88          N          A   \n",
       "\n",
       "   merchant_category_id category_2  state_id         category_str  one  \n",
       "0                    80          1        16   Y_88_N_A_80_1.0_16  1.0  \n",
       "1                   367          1        16  Y_88_N_A_367_1.0_16  1.0  \n",
       "2                    80          1        16   Y_88_N_A_80_1.0_16  1.0  \n",
       "3                   560          1        16  Y_88_N_A_560_1.0_16  1.0  \n",
       "4                    80          1        16   Y_88_N_A_80_1.0_16  1.0  "
      ]
     },
     "execution_count": 8,
     "metadata": {},
     "output_type": "execute_result"
    }
   ],
   "source": [
    "trs.head()"
   ]
  },
  {
   "cell_type": "code",
   "execution_count": 9,
   "metadata": {},
   "outputs": [],
   "source": [
    "card_c = CategoricalDtype(sorted(trs.card_id.unique()), ordered=True)\n",
    "category_c = CategoricalDtype(sorted(trs.category_str.unique()), ordered=True)\n",
    "\n",
    "row = trs.card_id.astype(card_c).cat.codes\n",
    "col = trs.category_str.astype(category_c).cat.codes\n",
    "sparse_matrix = csr_matrix((trs[\"one\"], (row, col)), shape=(card_c.categories.size, category_c.categories.size))"
   ]
  },
  {
   "cell_type": "markdown",
   "metadata": {},
   "source": [
    "# NMF"
   ]
  },
  {
   "cell_type": "code",
   "execution_count": 10,
   "metadata": {},
   "outputs": [],
   "source": [
    "model = NMF(n_components=N_COMP, init='random', random_state=0) \n",
    "embedded = model.fit_transform(sparse_matrix)\n",
    "\n",
    "df = pd.DataFrame(embedded, columns=[\"NMF_category_mix_comp_{}\".format(i) for i in range(1,N_COMP+1)])\n",
    "df[\"card_id\"] = card_c.categories.values"
   ]
  },
  {
   "cell_type": "code",
   "execution_count": 11,
   "metadata": {},
   "outputs": [
    {
     "data": {
      "text/html": [
       "<div>\n",
       "<style scoped>\n",
       "    .dataframe tbody tr th:only-of-type {\n",
       "        vertical-align: middle;\n",
       "    }\n",
       "\n",
       "    .dataframe tbody tr th {\n",
       "        vertical-align: top;\n",
       "    }\n",
       "\n",
       "    .dataframe thead th {\n",
       "        text-align: right;\n",
       "    }\n",
       "</style>\n",
       "<table border=\"1\" class=\"dataframe\">\n",
       "  <thead>\n",
       "    <tr style=\"text-align: right;\">\n",
       "      <th></th>\n",
       "      <th>NMF_category_mix_comp_1</th>\n",
       "      <th>NMF_category_mix_comp_2</th>\n",
       "      <th>NMF_category_mix_comp_3</th>\n",
       "      <th>NMF_category_mix_comp_4</th>\n",
       "      <th>NMF_category_mix_comp_5</th>\n",
       "      <th>NMF_category_mix_comp_6</th>\n",
       "      <th>NMF_category_mix_comp_7</th>\n",
       "      <th>NMF_category_mix_comp_8</th>\n",
       "      <th>NMF_category_mix_comp_9</th>\n",
       "      <th>NMF_category_mix_comp_10</th>\n",
       "      <th>card_id</th>\n",
       "    </tr>\n",
       "  </thead>\n",
       "  <tbody>\n",
       "    <tr>\n",
       "      <th>0</th>\n",
       "      <td>0.000002</td>\n",
       "      <td>0.020219</td>\n",
       "      <td>0.000025</td>\n",
       "      <td>0.001830</td>\n",
       "      <td>0.000060</td>\n",
       "      <td>0.000035</td>\n",
       "      <td>4.127115e-05</td>\n",
       "      <td>0.000384</td>\n",
       "      <td>0.000041</td>\n",
       "      <td>0.000066</td>\n",
       "      <td>C_ID_00007093c1</td>\n",
       "    </tr>\n",
       "    <tr>\n",
       "      <th>1</th>\n",
       "      <td>0.000000</td>\n",
       "      <td>0.005095</td>\n",
       "      <td>0.000000</td>\n",
       "      <td>0.023222</td>\n",
       "      <td>0.000000</td>\n",
       "      <td>0.000000</td>\n",
       "      <td>4.541550e-05</td>\n",
       "      <td>0.002876</td>\n",
       "      <td>0.000000</td>\n",
       "      <td>0.000000</td>\n",
       "      <td>C_ID_0001238066</td>\n",
       "    </tr>\n",
       "    <tr>\n",
       "      <th>2</th>\n",
       "      <td>0.000000</td>\n",
       "      <td>0.000054</td>\n",
       "      <td>0.004960</td>\n",
       "      <td>0.000000</td>\n",
       "      <td>0.004121</td>\n",
       "      <td>0.001549</td>\n",
       "      <td>0.000000e+00</td>\n",
       "      <td>0.000000</td>\n",
       "      <td>0.001961</td>\n",
       "      <td>0.005672</td>\n",
       "      <td>C_ID_0001506ef0</td>\n",
       "    </tr>\n",
       "    <tr>\n",
       "      <th>3</th>\n",
       "      <td>0.010026</td>\n",
       "      <td>0.000329</td>\n",
       "      <td>0.020676</td>\n",
       "      <td>0.000024</td>\n",
       "      <td>0.005666</td>\n",
       "      <td>0.004019</td>\n",
       "      <td>5.681509e-08</td>\n",
       "      <td>0.000005</td>\n",
       "      <td>0.001251</td>\n",
       "      <td>0.008092</td>\n",
       "      <td>C_ID_0001793786</td>\n",
       "    </tr>\n",
       "    <tr>\n",
       "      <th>4</th>\n",
       "      <td>0.000000</td>\n",
       "      <td>0.008895</td>\n",
       "      <td>0.000000</td>\n",
       "      <td>0.002378</td>\n",
       "      <td>0.000000</td>\n",
       "      <td>0.000000</td>\n",
       "      <td>6.038946e-05</td>\n",
       "      <td>0.000396</td>\n",
       "      <td>0.000000</td>\n",
       "      <td>0.000000</td>\n",
       "      <td>C_ID_000183fdda</td>\n",
       "    </tr>\n",
       "  </tbody>\n",
       "</table>\n",
       "</div>"
      ],
      "text/plain": [
       "   NMF_category_mix_comp_1  NMF_category_mix_comp_2  NMF_category_mix_comp_3  \\\n",
       "0                 0.000002                 0.020219                 0.000025   \n",
       "1                 0.000000                 0.005095                 0.000000   \n",
       "2                 0.000000                 0.000054                 0.004960   \n",
       "3                 0.010026                 0.000329                 0.020676   \n",
       "4                 0.000000                 0.008895                 0.000000   \n",
       "\n",
       "   NMF_category_mix_comp_4  NMF_category_mix_comp_5  NMF_category_mix_comp_6  \\\n",
       "0                 0.001830                 0.000060                 0.000035   \n",
       "1                 0.023222                 0.000000                 0.000000   \n",
       "2                 0.000000                 0.004121                 0.001549   \n",
       "3                 0.000024                 0.005666                 0.004019   \n",
       "4                 0.002378                 0.000000                 0.000000   \n",
       "\n",
       "   NMF_category_mix_comp_7  NMF_category_mix_comp_8  NMF_category_mix_comp_9  \\\n",
       "0             4.127115e-05                 0.000384                 0.000041   \n",
       "1             4.541550e-05                 0.002876                 0.000000   \n",
       "2             0.000000e+00                 0.000000                 0.001961   \n",
       "3             5.681509e-08                 0.000005                 0.001251   \n",
       "4             6.038946e-05                 0.000396                 0.000000   \n",
       "\n",
       "   NMF_category_mix_comp_10          card_id  \n",
       "0                  0.000066  C_ID_00007093c1  \n",
       "1                  0.000000  C_ID_0001238066  \n",
       "2                  0.005672  C_ID_0001506ef0  \n",
       "3                  0.008092  C_ID_0001793786  \n",
       "4                  0.000000  C_ID_000183fdda  "
      ]
     },
     "execution_count": 11,
     "metadata": {},
     "output_type": "execute_result"
    }
   ],
   "source": [
    "df.head()"
   ]
  },
  {
   "cell_type": "code",
   "execution_count": 12,
   "metadata": {},
   "outputs": [],
   "source": [
    "df.to_csv(\"../input/trs_category_mix_nmf.csv\", index=False)"
   ]
  }
 ],
 "metadata": {
  "kernelspec": {
   "display_name": "Python 3",
   "language": "python",
   "name": "python3"
  },
  "language_info": {
   "codemirror_mode": {
    "name": "ipython",
    "version": 3
   },
   "file_extension": ".py",
   "mimetype": "text/x-python",
   "name": "python",
   "nbconvert_exporter": "python",
   "pygments_lexer": "ipython3",
   "version": "3.6.6"
  }
 },
 "nbformat": 4,
 "nbformat_minor": 2
}
