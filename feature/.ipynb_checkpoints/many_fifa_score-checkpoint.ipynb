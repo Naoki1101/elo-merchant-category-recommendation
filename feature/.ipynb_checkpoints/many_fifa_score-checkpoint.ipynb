{
 "cells": [
  {
   "cell_type": "code",
   "execution_count": null,
   "metadata": {},
   "outputs": [],
   "source": [
    "import numpy as np\n",
    "import pandas as pd"
   ]
  },
  {
   "cell_type": "code",
   "execution_count": null,
   "metadata": {},
   "outputs": [],
   "source": [
    "df_fifa = pd.read_csv(\"../input/fifa_score_base.csv\")"
   ]
  },
  {
   "cell_type": "markdown",
   "metadata": {},
   "source": [
    "# single"
   ]
  },
  {
   "cell_type": "code",
   "execution_count": null,
   "metadata": {},
   "outputs": [],
   "source": [
    "df_fifa[\"fifa_AvgSalesLag3\"] = 1000 * df_fifa.authorized_flag * df_fifa.purchase_amount * df_fifa.latest * df_fifa.avg_sales_lag3\n",
    "df_fifa[\"fifa_SigAmountPerGroup\"] = 1000 * df_fifa.authorized_flag * df_fifa.purchase_amount * df_fifa.latest * df_fifa.sig_amount_per_group\n",
    "df_fifa[\"fifa_SigAmountPerCategory\"] = 1000 * df_fifa.authorized_flag * df_fifa.purchase_amount * df_fifa.latest * df_fifa.sig_amount_per_category\n",
    "df_fifa[\"fifa_SigAmountPerDistrict\"] = 1000 * df_fifa.authorized_flag * df_fifa.purchase_amount * df_fifa.latest * df_fifa.sig_amount_per_district"
   ]
  },
  {
   "cell_type": "code",
   "execution_count": null,
   "metadata": {},
   "outputs": [],
   "source": [
    "df_trs_fifa = df_fifa.groupby(\"card_id\")[\"fifa_AvgSalesLag3\", \"fifa_SigAmountPerGroup\", \"fifa_SigAmountPerCategory\", \"fifa_SigAmountPerDistrict\"].sum().reset_index()\n",
    "                                        "
   ]
  },
  {
   "cell_type": "code",
   "execution_count": null,
   "metadata": {
    "scrolled": true
   },
   "outputs": [],
   "source": [
    "df_trs_fifa"
   ]
  },
  {
   "cell_type": "code",
   "execution_count": null,
   "metadata": {},
   "outputs": [],
   "source": [
    "df_trs_fifa.to_csv(\"../input/fifa_score2.csv\", index=False)"
   ]
  },
  {
   "cell_type": "markdown",
   "metadata": {},
   "source": [
    "# double"
   ]
  },
  {
   "cell_type": "code",
   "execution_count": null,
   "metadata": {},
   "outputs": [],
   "source": [
    "import numpy as np\n",
    "import pandas as pd\n",
    "\n",
    "import itertools"
   ]
  },
  {
   "cell_type": "code",
   "execution_count": null,
   "metadata": {},
   "outputs": [],
   "source": [
    "df_fifa = pd.read_csv(\"../input/fifa_score_base.csv\")"
   ]
  },
  {
   "cell_type": "code",
   "execution_count": null,
   "metadata": {},
   "outputs": [],
   "source": [
    "df_fifa.head()"
   ]
  },
  {
   "cell_type": "code",
   "execution_count": null,
   "metadata": {},
   "outputs": [],
   "source": [
    "list(itertools.combinations(df_fifa.columns[4:-1], 2))"
   ]
  },
  {
   "cell_type": "code",
   "execution_count": null,
   "metadata": {},
   "outputs": [],
   "source": [
    "df_fifa[\"fifa_AvgSalesLag3_SigAmountPerGroup\"] = 10000 * df_fifa.authorized_flag * df_fifa.purchase_amount * df_fifa.latest * df_fifa.avg_sales_lag3 * df_fifa.sig_amount_per_group\n",
    "df_fifa[\"fifa_AvgSalesLag3_SigAmountPerCategory\"] = 10000 * df_fifa.authorized_flag * df_fifa.purchase_amount * df_fifa.latest * df_fifa.avg_sales_lag3 * df_fifa.sig_amount_per_category\n",
    "df_fifa[\"fifa_AvgSalesLag3_SigAmountPerDistrict\"] = 10000 * df_fifa.authorized_flag * df_fifa.purchase_amount * df_fifa.latest * df_fifa.avg_sales_lag3 * df_fifa.sig_amount_per_district\n",
    "df_fifa[\"fifa_SigAmountPerGroup_SigAmountPerCategory\"] = 10000 * df_fifa.authorized_flag * df_fifa.purchase_amount * df_fifa.latest * df_fifa.sig_amount_per_group * df_fifa.sig_amount_per_category\n",
    "df_fifa[\"fifa_SigAmountPerGroup_SigAmountPerDistrict\"] = 10000 * df_fifa.authorized_flag * df_fifa.purchase_amount * df_fifa.latest * df_fifa.sig_amount_per_group * df_fifa.sig_amount_per_district\n",
    "df_fifa[\"fifa_SigAmountPerCategory_SigAmountPerDistrict\"] = 10000 * df_fifa.authorized_flag * df_fifa.purchase_amount * df_fifa.latest * df_fifa.sig_amount_per_category * df_fifa.sig_amount_per_district\n",
    "\n"
   ]
  },
  {
   "cell_type": "code",
   "execution_count": null,
   "metadata": {},
   "outputs": [],
   "source": [
    "df_trs_fifa = df_fifa.groupby(\"card_id\")[\n",
    "    \"fifa_AvgSalesLag3_SigAmountPerGroup\",\n",
    "    \"fifa_AvgSalesLag3_SigAmountPerCategory\",\n",
    "    \"fifa_AvgSalesLag3_SigAmountPerDistrict\", \n",
    "    \"fifa_SigAmountPerGroup_SigAmountPerCategory\",\n",
    "    \"fifa_SigAmountPerGroup_SigAmountPerDistrict\",\n",
    "    \"fifa_SigAmountPerGroup_SigAmountPerDistrict\"\n",
    "].sum().reset_index()"
   ]
  },
  {
   "cell_type": "code",
   "execution_count": null,
   "metadata": {},
   "outputs": [],
   "source": [
    "df_trs_fifa.head()"
   ]
  },
  {
   "cell_type": "code",
   "execution_count": null,
   "metadata": {},
   "outputs": [],
   "source": [
    "df_trs_fifa.to_csv(\"../input/fifa_score3.csv\", index=False)"
   ]
  },
  {
   "cell_type": "code",
   "execution_count": null,
   "metadata": {},
   "outputs": [],
   "source": []
  },
  {
   "cell_type": "markdown",
   "metadata": {},
   "source": [
    "# Triple"
   ]
  },
  {
   "cell_type": "code",
   "execution_count": 1,
   "metadata": {},
   "outputs": [
    {
     "name": "stderr",
     "output_type": "stream",
     "text": [
      "/Users/naoki/.pyenv/versions/3.6.6/lib/python3.6/importlib/_bootstrap.py:219: RuntimeWarning: numpy.dtype size changed, may indicate binary incompatibility. Expected 96, got 88\n",
      "  return f(*args, **kwds)\n",
      "/Users/naoki/.pyenv/versions/3.6.6/lib/python3.6/importlib/_bootstrap.py:219: RuntimeWarning: numpy.dtype size changed, may indicate binary incompatibility. Expected 96, got 88\n",
      "  return f(*args, **kwds)\n"
     ]
    }
   ],
   "source": [
    "import numpy as np\n",
    "import pandas as pd\n",
    "\n",
    "import itertools"
   ]
  },
  {
   "cell_type": "code",
   "execution_count": 2,
   "metadata": {},
   "outputs": [],
   "source": [
    "df_fifa = pd.read_csv(\"../input/fifa_score_base.csv\")"
   ]
  },
  {
   "cell_type": "code",
   "execution_count": 3,
   "metadata": {},
   "outputs": [
    {
     "data": {
      "text/html": [
       "<div>\n",
       "<style scoped>\n",
       "    .dataframe tbody tr th:only-of-type {\n",
       "        vertical-align: middle;\n",
       "    }\n",
       "\n",
       "    .dataframe tbody tr th {\n",
       "        vertical-align: top;\n",
       "    }\n",
       "\n",
       "    .dataframe thead th {\n",
       "        text-align: right;\n",
       "    }\n",
       "</style>\n",
       "<table border=\"1\" class=\"dataframe\">\n",
       "  <thead>\n",
       "    <tr style=\"text-align: right;\">\n",
       "      <th></th>\n",
       "      <th>authorized_flag</th>\n",
       "      <th>card_id</th>\n",
       "      <th>purchase_amount</th>\n",
       "      <th>latest</th>\n",
       "      <th>avg_sales_lag3</th>\n",
       "      <th>sig_amount_per_group</th>\n",
       "      <th>sig_amount_per_category</th>\n",
       "      <th>sig_amount_per_district</th>\n",
       "      <th>fifa_score</th>\n",
       "    </tr>\n",
       "  </thead>\n",
       "  <tbody>\n",
       "    <tr>\n",
       "      <th>0</th>\n",
       "      <td>1</td>\n",
       "      <td>C_ID_4e6213e9bc</td>\n",
       "      <td>0.331074</td>\n",
       "      <td>0.003226</td>\n",
       "      <td>0.746494</td>\n",
       "      <td>0.413304</td>\n",
       "      <td>0.728098</td>\n",
       "      <td>0.401358</td>\n",
       "      <td>9.629009</td>\n",
       "    </tr>\n",
       "    <tr>\n",
       "      <th>1</th>\n",
       "      <td>1</td>\n",
       "      <td>C_ID_4e6213e9bc</td>\n",
       "      <td>0.324509</td>\n",
       "      <td>0.003448</td>\n",
       "      <td>0.742691</td>\n",
       "      <td>0.344299</td>\n",
       "      <td>0.728098</td>\n",
       "      <td>0.401358</td>\n",
       "      <td>8.361697</td>\n",
       "    </tr>\n",
       "    <tr>\n",
       "      <th>2</th>\n",
       "      <td>1</td>\n",
       "      <td>C_ID_4e6213e9bc</td>\n",
       "      <td>0.327308</td>\n",
       "      <td>0.003774</td>\n",
       "      <td>0.727108</td>\n",
       "      <td>0.329830</td>\n",
       "      <td>0.728098</td>\n",
       "      <td>0.401358</td>\n",
       "      <td>8.656085</td>\n",
       "    </tr>\n",
       "    <tr>\n",
       "      <th>3</th>\n",
       "      <td>1</td>\n",
       "      <td>C_ID_4e6213e9bc</td>\n",
       "      <td>0.324021</td>\n",
       "      <td>0.004149</td>\n",
       "      <td>0.731059</td>\n",
       "      <td>0.324279</td>\n",
       "      <td>0.728098</td>\n",
       "      <td>0.401358</td>\n",
       "      <td>9.314273</td>\n",
       "    </tr>\n",
       "    <tr>\n",
       "      <th>4</th>\n",
       "      <td>1</td>\n",
       "      <td>C_ID_4e6213e9bc</td>\n",
       "      <td>0.326762</td>\n",
       "      <td>0.002398</td>\n",
       "      <td>0.746494</td>\n",
       "      <td>0.413304</td>\n",
       "      <td>0.728098</td>\n",
       "      <td>0.401358</td>\n",
       "      <td>7.065029</td>\n",
       "    </tr>\n",
       "  </tbody>\n",
       "</table>\n",
       "</div>"
      ],
      "text/plain": [
       "   authorized_flag          card_id  purchase_amount    latest  \\\n",
       "0                1  C_ID_4e6213e9bc         0.331074  0.003226   \n",
       "1                1  C_ID_4e6213e9bc         0.324509  0.003448   \n",
       "2                1  C_ID_4e6213e9bc         0.327308  0.003774   \n",
       "3                1  C_ID_4e6213e9bc         0.324021  0.004149   \n",
       "4                1  C_ID_4e6213e9bc         0.326762  0.002398   \n",
       "\n",
       "   avg_sales_lag3  sig_amount_per_group  sig_amount_per_category  \\\n",
       "0        0.746494              0.413304                 0.728098   \n",
       "1        0.742691              0.344299                 0.728098   \n",
       "2        0.727108              0.329830                 0.728098   \n",
       "3        0.731059              0.324279                 0.728098   \n",
       "4        0.746494              0.413304                 0.728098   \n",
       "\n",
       "   sig_amount_per_district  fifa_score  \n",
       "0                 0.401358    9.629009  \n",
       "1                 0.401358    8.361697  \n",
       "2                 0.401358    8.656085  \n",
       "3                 0.401358    9.314273  \n",
       "4                 0.401358    7.065029  "
      ]
     },
     "execution_count": 3,
     "metadata": {},
     "output_type": "execute_result"
    }
   ],
   "source": [
    "df_fifa.head()"
   ]
  },
  {
   "cell_type": "code",
   "execution_count": 4,
   "metadata": {},
   "outputs": [
    {
     "data": {
      "text/plain": [
       "[('avg_sales_lag3', 'sig_amount_per_group', 'sig_amount_per_category'),\n",
       " ('avg_sales_lag3', 'sig_amount_per_group', 'sig_amount_per_district'),\n",
       " ('avg_sales_lag3', 'sig_amount_per_category', 'sig_amount_per_district'),\n",
       " ('sig_amount_per_group',\n",
       "  'sig_amount_per_category',\n",
       "  'sig_amount_per_district')]"
      ]
     },
     "execution_count": 4,
     "metadata": {},
     "output_type": "execute_result"
    }
   ],
   "source": [
    "list(itertools.combinations(df_fifa.columns[4:-1], 3))"
   ]
  },
  {
   "cell_type": "code",
   "execution_count": 5,
   "metadata": {},
   "outputs": [],
   "source": [
    "df_fifa[\"fifa_AvgSalesLag3_SigAmountPerGroup_SigAmountPerCategory\"] = 10000 * df_fifa.authorized_flag * df_fifa.purchase_amount * df_fifa.latest * df_fifa.avg_sales_lag3 * df_fifa.sig_amount_per_group * df_fifa.sig_amount_per_category\n",
    "df_fifa[\"fifa_AvgSalesLag3_SigAmountPerGroup_SigAmountPerDistrict\"] = 10000 * df_fifa.authorized_flag * df_fifa.purchase_amount * df_fifa.latest * df_fifa.avg_sales_lag3 * df_fifa.sig_amount_per_group * df_fifa.sig_amount_per_district\n",
    "df_fifa[\"fifa_AvgSalesLag3_SigAmountPerCategory_SigAmountPerDistrict\"] = 10000 * df_fifa.authorized_flag * df_fifa.purchase_amount * df_fifa.latest * df_fifa.avg_sales_lag3 * df_fifa.sig_amount_per_category * df_fifa.sig_amount_per_district\n",
    "df_fifa[\"fifa_SigAmountPerGroup_SigAmountPerCategory_SigAmountPerDistrict\"] = 10000 * df_fifa.authorized_flag * df_fifa.purchase_amount * df_fifa.latest * df_fifa.sig_amount_per_group * df_fifa.sig_amount_per_category * df_fifa.sig_amount_per_district\n"
   ]
  },
  {
   "cell_type": "code",
   "execution_count": 6,
   "metadata": {},
   "outputs": [],
   "source": [
    "df_trs_fifa = df_fifa.groupby(\"card_id\")[\n",
    "    \"fifa_AvgSalesLag3_SigAmountPerGroup_SigAmountPerCategory\",\n",
    "    \"fifa_AvgSalesLag3_SigAmountPerGroup_SigAmountPerDistrict\",\n",
    "    \"fifa_AvgSalesLag3_SigAmountPerCategory_SigAmountPerDistrict\", \n",
    "    \"fifa_SigAmountPerGroup_SigAmountPerCategory_SigAmountPerDistrict\"\n",
    "].sum().reset_index()"
   ]
  },
  {
   "cell_type": "code",
   "execution_count": 7,
   "metadata": {
    "scrolled": true
   },
   "outputs": [
    {
     "data": {
      "text/html": [
       "<div>\n",
       "<style scoped>\n",
       "    .dataframe tbody tr th:only-of-type {\n",
       "        vertical-align: middle;\n",
       "    }\n",
       "\n",
       "    .dataframe tbody tr th {\n",
       "        vertical-align: top;\n",
       "    }\n",
       "\n",
       "    .dataframe thead th {\n",
       "        text-align: right;\n",
       "    }\n",
       "</style>\n",
       "<table border=\"1\" class=\"dataframe\">\n",
       "  <thead>\n",
       "    <tr style=\"text-align: right;\">\n",
       "      <th></th>\n",
       "      <th>card_id</th>\n",
       "      <th>fifa_AvgSalesLag3_SigAmountPerGroup_SigAmountPerCategory</th>\n",
       "      <th>fifa_AvgSalesLag3_SigAmountPerGroup_SigAmountPerDistrict</th>\n",
       "      <th>fifa_AvgSalesLag3_SigAmountPerCategory_SigAmountPerDistrict</th>\n",
       "      <th>fifa_SigAmountPerGroup_SigAmountPerCategory_SigAmountPerDistrict</th>\n",
       "    </tr>\n",
       "  </thead>\n",
       "  <tbody>\n",
       "    <tr>\n",
       "      <th>0</th>\n",
       "      <td>C_ID_00007093c1</td>\n",
       "      <td>196.430001</td>\n",
       "      <td>309.887999</td>\n",
       "      <td>289.773244</td>\n",
       "      <td>157.548503</td>\n",
       "    </tr>\n",
       "    <tr>\n",
       "      <th>1</th>\n",
       "      <td>C_ID_0001238066</td>\n",
       "      <td>1312.723622</td>\n",
       "      <td>1707.059170</td>\n",
       "      <td>1676.832895</td>\n",
       "      <td>857.021816</td>\n",
       "    </tr>\n",
       "    <tr>\n",
       "      <th>2</th>\n",
       "      <td>C_ID_0001506ef0</td>\n",
       "      <td>214.171926</td>\n",
       "      <td>193.063412</td>\n",
       "      <td>250.996271</td>\n",
       "      <td>133.951995</td>\n",
       "    </tr>\n",
       "    <tr>\n",
       "      <th>3</th>\n",
       "      <td>C_ID_0001793786</td>\n",
       "      <td>399.451186</td>\n",
       "      <td>537.685508</td>\n",
       "      <td>487.539620</td>\n",
       "      <td>268.182302</td>\n",
       "    </tr>\n",
       "    <tr>\n",
       "      <th>4</th>\n",
       "      <td>C_ID_000183fdda</td>\n",
       "      <td>641.423698</td>\n",
       "      <td>1294.049145</td>\n",
       "      <td>663.192979</td>\n",
       "      <td>336.167918</td>\n",
       "    </tr>\n",
       "  </tbody>\n",
       "</table>\n",
       "</div>"
      ],
      "text/plain": [
       "           card_id  fifa_AvgSalesLag3_SigAmountPerGroup_SigAmountPerCategory  \\\n",
       "0  C_ID_00007093c1                                         196.430001          \n",
       "1  C_ID_0001238066                                        1312.723622          \n",
       "2  C_ID_0001506ef0                                         214.171926          \n",
       "3  C_ID_0001793786                                         399.451186          \n",
       "4  C_ID_000183fdda                                         641.423698          \n",
       "\n",
       "   fifa_AvgSalesLag3_SigAmountPerGroup_SigAmountPerDistrict  \\\n",
       "0                                         309.887999          \n",
       "1                                        1707.059170          \n",
       "2                                         193.063412          \n",
       "3                                         537.685508          \n",
       "4                                        1294.049145          \n",
       "\n",
       "   fifa_AvgSalesLag3_SigAmountPerCategory_SigAmountPerDistrict  \\\n",
       "0                                         289.773244             \n",
       "1                                        1676.832895             \n",
       "2                                         250.996271             \n",
       "3                                         487.539620             \n",
       "4                                         663.192979             \n",
       "\n",
       "   fifa_SigAmountPerGroup_SigAmountPerCategory_SigAmountPerDistrict  \n",
       "0                                         157.548503                 \n",
       "1                                         857.021816                 \n",
       "2                                         133.951995                 \n",
       "3                                         268.182302                 \n",
       "4                                         336.167918                 "
      ]
     },
     "execution_count": 7,
     "metadata": {},
     "output_type": "execute_result"
    }
   ],
   "source": [
    "df_trs_fifa.head()"
   ]
  },
  {
   "cell_type": "code",
   "execution_count": 8,
   "metadata": {},
   "outputs": [],
   "source": [
    "df_trs_fifa.to_csv(\"../input/fifa_score4.csv\", index=False)"
   ]
  }
 ],
 "metadata": {
  "kernelspec": {
   "display_name": "Python 3",
   "language": "python",
   "name": "python3"
  },
  "language_info": {
   "codemirror_mode": {
    "name": "ipython",
    "version": 3
   },
   "file_extension": ".py",
   "mimetype": "text/x-python",
   "name": "python",
   "nbconvert_exporter": "python",
   "pygments_lexer": "ipython3",
   "version": "3.6.6"
  }
 },
 "nbformat": 4,
 "nbformat_minor": 2
}
