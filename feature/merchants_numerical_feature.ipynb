{
 "cells": [
  {
   "cell_type": "code",
   "execution_count": 49,
   "metadata": {},
   "outputs": [],
   "source": [
    "import pandas as pd\n",
    "import numpy as np\n",
    "\n",
    "from sklearn.decomposition import PCA"
   ]
  },
  {
   "cell_type": "code",
   "execution_count": 50,
   "metadata": {},
   "outputs": [],
   "source": [
    "raw_train = pd.read_csv(\"./input/train.csv\")\n",
    "h_trs = pd.read_csv(\"./input/historical_transactions.csv\")\n",
    "merchants = pd.read_csv(\"./input/merchants.csv\")"
   ]
  },
  {
   "cell_type": "code",
   "execution_count": 51,
   "metadata": {},
   "outputs": [],
   "source": [
    "pca = PCA(n_components=1)\n",
    "merchants[\"numerical_pca\"] = pca.fit_transform(merchants[[\"numerical_1\", \"numerical_2\"]].values)"
   ]
  },
  {
   "cell_type": "code",
   "execution_count": 52,
   "metadata": {
    "scrolled": true
   },
   "outputs": [],
   "source": [
    "df_merchants_numerical = merchants[[\"merchant_id\", \"numerical_pca\"]]"
   ]
  },
  {
   "cell_type": "code",
   "execution_count": 53,
   "metadata": {
    "scrolled": true
   },
   "outputs": [],
   "source": [
    "h_trs = pd.merge(h_trs, df_merchants_numerical, on=\"merchant_id\", how=\"left\")"
   ]
  },
  {
   "cell_type": "code",
   "execution_count": 54,
   "metadata": {},
   "outputs": [],
   "source": [
    "h_trs[\"exp_numerical_pca\"] = np.exp(h_trs.numerical_pca)\n",
    "h_trs[\"relu_numerical_pca\"] = np.where(h_trs.numerical_pca>0, h_trs.numerical_pca, 0)"
   ]
  },
  {
   "cell_type": "code",
   "execution_count": 55,
   "metadata": {},
   "outputs": [],
   "source": [
    "numerical_h_trs = h_trs[[\"card_id\", \"numerical_pca\", \"exp_numerical_pca\", \"relu_numerical_pca\"]]"
   ]
  },
  {
   "cell_type": "code",
   "execution_count": 56,
   "metadata": {},
   "outputs": [],
   "source": [
    "agg_func = {\n",
    "        'numerical_pca': ['sum', 'mean', 'max', 'min', 'std'],\n",
    "        'exp_numerical_pca': ['sum', 'mean', 'max', 'min', 'std'],\n",
    "        'relu_numerical_pca': ['sum', 'mean', 'max', 'std']\n",
    "        }"
   ]
  },
  {
   "cell_type": "code",
   "execution_count": 57,
   "metadata": {},
   "outputs": [],
   "source": [
    "agg_history = numerical_h_trs.groupby(['card_id']).agg(agg_func)\n",
    "agg_history.columns = ['_'.join(col).strip() for col in agg_history.columns.values]\n",
    "agg_history.reset_index(inplace=True)"
   ]
  },
  {
   "cell_type": "code",
   "execution_count": 58,
   "metadata": {
    "scrolled": true
   },
   "outputs": [],
   "source": [
    "agg_history.to_csv(\"./input/merchants_numerical_features.csv\", index=False)"
   ]
  }
 ],
 "metadata": {
  "kernelspec": {
   "display_name": "Python 3",
   "language": "python",
   "name": "python3"
  },
  "language_info": {
   "codemirror_mode": {
    "name": "ipython",
    "version": 3
   },
   "file_extension": ".py",
   "mimetype": "text/x-python",
   "name": "python",
   "nbconvert_exporter": "python",
   "pygments_lexer": "ipython3",
   "version": "3.6.6"
  }
 },
 "nbformat": 4,
 "nbformat_minor": 2
}
