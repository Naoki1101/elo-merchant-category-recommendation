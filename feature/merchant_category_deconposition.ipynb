{
 "cells": [
  {
   "cell_type": "code",
   "execution_count": 1,
   "metadata": {},
   "outputs": [],
   "source": [
    "import pandas as pd\n",
    "import numpy as np\n",
    "\n",
    "from scipy.sparse import csr_matrix\n",
    "from pandas.api.types import CategoricalDtype\n",
    "\n",
    "from sklearn.decomposition import NMF\n",
    "\n",
    "from tqdm import tqdm\n",
    "\n",
    "import warnings\n",
    "warnings.filterwarnings('ignore')"
   ]
  },
  {
   "cell_type": "code",
   "execution_count": 10,
   "metadata": {},
   "outputs": [],
   "source": [
    "raw_train = pd.read_csv(\"../input/train.csv\", usecols=[\"card_id\"])\n",
    "h_trs = pd.read_csv(\"../input/historical_transactions.csv\", usecols=[\"card_id\", \"category_1\", \"category_2\", \"category_3\", \"merchant_id\"])\n",
    "n_trs = pd.read_csv(\"../input/new_merchant_transactions.csv\", usecols=[\"card_id\", \"category_1\", \"category_2\", \"category_3\", \"merchant_id\"])\n",
    "merchant = pd.read_csv(\"../input/merchants.csv\", usecols=[\"merchant_id\", \"category_4\"])"
   ]
  },
  {
   "cell_type": "code",
   "execution_count": 19,
   "metadata": {},
   "outputs": [],
   "source": [
    "trs = pd.concat([h_trs, n_trs], axis=0).reset_index(drop=True)\n",
    "merchant = merchant[merchant.duplicated()==False].reset_index(drop=True)"
   ]
  },
  {
   "cell_type": "code",
   "execution_count": 20,
   "metadata": {
    "scrolled": true
   },
   "outputs": [],
   "source": [
    "trs_category = pd.merge(trs, merchant, on=\"merchant_id\", how=\"left\")"
   ]
  },
  {
   "cell_type": "code",
   "execution_count": 23,
   "metadata": {},
   "outputs": [],
   "source": [
    "trs_category_dummy = pd.get_dummies(data=trs_category, columns=[\"category_1\", \"category_2\", \"category_3\", \"category_4\"])"
   ]
  },
  {
   "cell_type": "code",
   "execution_count": 27,
   "metadata": {},
   "outputs": [],
   "source": [
    "agg_func = {\n",
    "    'category_1_N': [\"sum\", \"mean\", \"std\"], \n",
    "    'category_1_Y': [\"sum\", \"mean\", \"std\"], \n",
    "    'category_2_1.0': [\"sum\", \"mean\", \"std\"],\n",
    "    'category_2_2.0': [\"sum\", \"mean\", \"std\"],\n",
    "    'category_2_3.0': [\"sum\", \"mean\", \"std\"],\n",
    "    'category_2_4.0': [\"sum\", \"mean\", \"std\"], \n",
    "    'category_2_5.0': [\"sum\", \"mean\", \"std\"], \n",
    "    'category_3_A': [\"sum\", \"mean\", \"std\"],\n",
    "    'category_3_B': [\"sum\", \"mean\", \"std\"], \n",
    "    'category_3_C': [\"sum\", \"mean\", \"std\"], \n",
    "    'category_4_N': [\"sum\", \"mean\", \"std\"], \n",
    "    'category_4_Y': [\"sum\", \"mean\", \"std\"]\n",
    "}"
   ]
  },
  {
   "cell_type": "code",
   "execution_count": 35,
   "metadata": {},
   "outputs": [],
   "source": [
    "trs_category_summary = trs_category_dummy.groupby(\"card_id\").agg(agg_func)"
   ]
  },
  {
   "cell_type": "code",
   "execution_count": 36,
   "metadata": {},
   "outputs": [],
   "source": [
    "trs_category_summary.columns = [\"_\".join(col).strip() for col in trs_category_summary.columns.values]"
   ]
  },
  {
   "cell_type": "code",
   "execution_count": 37,
   "metadata": {},
   "outputs": [],
   "source": [
    "trs_category_summary = trs_category_summary.reset_index()"
   ]
  },
  {
   "cell_type": "code",
   "execution_count": null,
   "metadata": {},
   "outputs": [],
   "source": [
    "trs_category_summary.to_csv(\"../input/merchants_category.csv\", index=False)"
   ]
  },
  {
   "cell_type": "code",
   "execution_count": null,
   "metadata": {},
   "outputs": [],
   "source": []
  }
 ],
 "metadata": {
  "kernelspec": {
   "display_name": "Python 3",
   "language": "python",
   "name": "python3"
  },
  "language_info": {
   "codemirror_mode": {
    "name": "ipython",
    "version": 3
   },
   "file_extension": ".py",
   "mimetype": "text/x-python",
   "name": "python",
   "nbconvert_exporter": "python",
   "pygments_lexer": "ipython3",
   "version": "3.5.0"
  }
 },
 "nbformat": 4,
 "nbformat_minor": 2
}
